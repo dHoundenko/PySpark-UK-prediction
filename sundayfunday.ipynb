{
 "cells": [
  {
   "cell_type": "code",
   "execution_count": 3,
   "metadata": {
    "ExecuteTime": {
     "end_time": "2023-05-08T19:55:44.480713Z",
     "start_time": "2023-05-08T19:55:33.609714Z"
    }
   },
   "outputs": [],
   "source": [
    "from pyspark.sql.functions import max, expr\n",
    "from pyspark.sql import SparkSession\n",
    "# Building session now\n",
    "spark = SparkSession.builder.appName('lol').getOrCreate()"
   ]
  },
  {
   "cell_type": "code",
   "execution_count": null,
   "metadata": {
    "ExecuteTime": {
     "end_time": "2023-05-07T15:10:26.918152Z",
     "start_time": "2023-05-07T15:10:19.856682Z"
    }
   },
   "outputs": [],
   "source": [
    "# Sample DataFrame\n",
    "df = spark.createDataFrame([(1, 10), (2, 20), (3, 30)], [\"id\", \"value\"])"
   ]
  },
  {
   "cell_type": "code",
   "execution_count": null,
   "metadata": {
    "ExecuteTime": {
     "end_time": "2023-05-07T02:39:15.021931Z",
     "start_time": "2023-05-07T02:39:14.514313Z"
    }
   },
   "outputs": [],
   "source": [
    "df.show()"
   ]
  },
  {
   "cell_type": "code",
   "execution_count": null,
   "metadata": {
    "ExecuteTime": {
     "end_time": "2023-05-07T02:39:16.224853Z",
     "start_time": "2023-05-07T02:39:15.679210Z"
    }
   },
   "outputs": [],
   "source": [
    "# Find the maximum value in the \"value\" column\n",
    "max_value = df.select(max(\"value\")).collect()[0][0]"
   ]
  },
  {
   "cell_type": "code",
   "execution_count": null,
   "metadata": {
    "ExecuteTime": {
     "end_time": "2023-05-07T02:39:16.819869Z",
     "start_time": "2023-05-07T02:39:16.794271Z"
    }
   },
   "outputs": [],
   "source": [
    "# Divide each value in the \"value\" column by the maximum value\n",
    "df = df.withColumn(\"value_normalized\", expr(\"value / {}\".format(max_value))).drop(\"value\")"
   ]
  },
  {
   "cell_type": "code",
   "execution_count": null,
   "metadata": {
    "ExecuteTime": {
     "end_time": "2023-05-07T02:39:18.222515Z",
     "start_time": "2023-05-07T02:39:17.733495Z"
    }
   },
   "outputs": [],
   "source": [
    "# Show the resulting DataFrame\n",
    "df.show()"
   ]
  },
  {
   "cell_type": "code",
   "execution_count": null,
   "metadata": {
    "ExecuteTime": {
     "end_time": "2023-05-07T02:54:14.727627Z",
     "start_time": "2023-05-07T02:54:06.222424Z"
    }
   },
   "outputs": [],
   "source": [
    "# Sample DataFrame with a \"color\" column\n",
    "df = spark.createDataFrame([(1, \"red\"), (2, \"blue\"), (3, \"green\"), (4, \"red\")], [\"id\", \"color\"])\n",
    "\n",
    "# Get a list of unique values in the \"color\" column\n",
    "unique_colors = [row[0] for row in df.select(\"color\").distinct().collect()]\n",
    "\n",
    "# Print the list of unique values\n",
    "print(unique_colors)"
   ]
  },
  {
   "cell_type": "code",
   "execution_count": null,
   "metadata": {
    "ExecuteTime": {
     "end_time": "2023-05-07T03:26:26.753323Z",
     "start_time": "2023-05-07T03:26:26.631368Z"
    },
    "scrolled": true
   },
   "outputs": [],
   "source": [
    "from pyspark.sql.functions import when\n",
    "\n",
    "# Sample DataFrame with a \"color\" column\n",
    "df = spark.createDataFrame([(1, \"red\"), (2, \"blue\"), (3, \"green\"), (4, \"red\")], [\"id\", \"color\"])\n",
    "\n",
    "# Define a mapping from color string to integer value\n",
    "color_mapping = {\"red\": 1, \"blue\": 2, \"green\": 3, \"yellow\": 4}\n",
    "\n",
    "# Assign a unique integer value to each color string\n",
    "df = df.withColumn(\"color_int\", (when(df[\"color\"] == option, color_mapping[option]).otherwise(None) for option in color_mapping))\n",
    "# Show the resulting DataFrame\n",
    "df.show()"
   ]
  },
  {
   "cell_type": "code",
   "execution_count": null,
   "metadata": {
    "ExecuteTime": {
     "end_time": "2023-05-07T02:59:50.738743Z",
     "start_time": "2023-05-07T02:59:43.275023Z"
    }
   },
   "outputs": [],
   "source": [
    "# Sample DataFrame with a \"color\" column\n",
    "df = spark.createDataFrame([(1, \"red\"), (2, \"blue\"), (3, \"green\"), (4, \"red\")], [\"id\", \"color\"])\n",
    "\n",
    "# Get a list of unique values in the \"color\" column\n",
    "unique_colors = [row[0] for row in df.select(\"color\").distinct().collect()]\n",
    "\n",
    "# Create a dictionary mapping unique string values to unique integer values\n",
    "color_mapping = dict(zip(unique_colors, range(len(unique_colors))))\n",
    "\n",
    "# Show the color mapping\n",
    "print(color_mapping)\n"
   ]
  },
  {
   "cell_type": "code",
   "execution_count": null,
   "metadata": {
    "ExecuteTime": {
     "end_time": "2023-05-07T03:41:07.582292Z",
     "start_time": "2023-05-07T03:41:02.604541Z"
    }
   },
   "outputs": [],
   "source": [
    "from functools import reduce\n",
    "from pyspark.sql.functions import when\n",
    "\n",
    "# Create DataFrame\n",
    "df = spark.createDataFrame([(1, \"red\"), (2, \"blue\"), (3, \"green\"), (4, \"red\")], [\"id\", \"color\"])\n",
    "\n",
    "# Define a mapping from color string to integer value\n",
    "color_mapping = {\"red\": 1, \"blue\": 2, \"green\": 3, \"yellow\": 4}\n",
    "\n",
    "# Use list comprehension and reduce to create a single when() expression\n",
    "when_expr = reduce(lambda a, b: a.when(df[\"color\"] == b, color_mapping[b]), color_mapping, when(df[\"color\"].isNull(), None))\n",
    "\n",
    "# Add the new column to the DataFrame\n",
    "df = df.withColumn(\"color_int\", when_expr)\n",
    "\n",
    "# Show the resulting DataFrame\n",
    "df.show()\n"
   ]
  },
  {
   "cell_type": "code",
   "execution_count": 6,
   "metadata": {
    "ExecuteTime": {
     "end_time": "2023-05-08T18:49:05.004480Z",
     "start_time": "2023-05-08T18:49:04.996279Z"
    }
   },
   "outputs": [],
   "source": [
    "def get_string_mapping(col_name, dataframe):\n",
    "    unique_strings = [row[0] for row in dataframe.select(col_name).distinct().collect()]\n",
    "    mapping = dict(zip(unique_strings, range(len(unique_strings))))\n",
    "    return mapping"
   ]
  },
  {
   "cell_type": "code",
   "execution_count": 3,
   "metadata": {
    "ExecuteTime": {
     "end_time": "2023-05-07T21:58:29.221196Z",
     "start_time": "2023-05-07T21:58:29.217253Z"
    }
   },
   "outputs": [],
   "source": [
    "from functools import reduce\n",
    "from pyspark.sql.functions import when\n"
   ]
  },
  {
   "cell_type": "code",
   "execution_count": 4,
   "metadata": {
    "ExecuteTime": {
     "end_time": "2023-05-07T21:58:29.821428Z",
     "start_time": "2023-05-07T21:58:29.816407Z"
    }
   },
   "outputs": [],
   "source": [
    "def get_embedding(col_name, mapping, dataframe):\n",
    "    when_expr = reduce(lambda a, b: a.when(dataframe[col_name] == b, mapping[b]),\n",
    "                       mapping, when(dataframe[col_name].isNull(), None))\n",
    "    dataframe = dataframe.withColumn(col_name + \"_embed\", when_expr)\n",
    "    dataframe = dataframe.drop(col_name)\n",
    "    return dataframe\n",
    "    "
   ]
  },
  {
   "cell_type": "code",
   "execution_count": 34,
   "metadata": {
    "ExecuteTime": {
     "end_time": "2023-05-07T15:35:57.455290Z",
     "start_time": "2023-05-07T15:35:57.447557Z"
    }
   },
   "outputs": [],
   "source": [
    "def normalize_column(col_name, dataframe):\n",
    "    max_value = dataframe.select(max(col_name)).collect()[0][0]\n",
    "    dataframe = dataframe.withColumn(f\"{col_name}_normalized\", expr(\"{} / {}\".format(col_name, max_value))).drop(col_name)\n",
    "    return dataframe"
   ]
  },
  {
   "cell_type": "code",
   "execution_count": 4,
   "metadata": {
    "ExecuteTime": {
     "end_time": "2023-05-08T18:48:49.738239Z",
     "start_time": "2023-05-08T18:48:46.517072Z"
    }
   },
   "outputs": [],
   "source": [
    "data = spark.createDataFrame([(23, \"apple\"), (64, \"banana\"), (15, \"orange\"), (83, \"banana\"), (42, \"kiwi\")], [\"integers\", \"fruits\"])"
   ]
  },
  {
   "cell_type": "code",
   "execution_count": 5,
   "metadata": {
    "ExecuteTime": {
     "end_time": "2023-05-08T18:49:03.737608Z",
     "start_time": "2023-05-08T18:48:50.438908Z"
    }
   },
   "outputs": [
    {
     "name": "stdout",
     "output_type": "stream",
     "text": [
      "+--------+------+\n",
      "|integers|fruits|\n",
      "+--------+------+\n",
      "|      23| apple|\n",
      "|      64|banana|\n",
      "|      15|orange|\n",
      "|      83|banana|\n",
      "|      42|  kiwi|\n",
      "+--------+------+\n",
      "\n"
     ]
    }
   ],
   "source": [
    "data.show()"
   ]
  },
  {
   "cell_type": "code",
   "execution_count": 7,
   "metadata": {
    "ExecuteTime": {
     "end_time": "2023-05-08T18:49:16.222285Z",
     "start_time": "2023-05-08T18:49:07.165777Z"
    }
   },
   "outputs": [
    {
     "name": "stdout",
     "output_type": "stream",
     "text": [
      "{'kiwi': 0, 'orange': 1, 'apple': 2, 'banana': 3}\n"
     ]
    }
   ],
   "source": [
    "mapping = get_string_mapping(\"fruits\", data)\n",
    "print(mapping)"
   ]
  },
  {
   "cell_type": "code",
   "execution_count": null,
   "metadata": {
    "ExecuteTime": {
     "end_time": "2023-05-07T04:05:20.552938Z",
     "start_time": "2023-05-07T04:05:19.655389Z"
    }
   },
   "outputs": [],
   "source": [
    "data = embed_strings(\"fruits\", mapping, data)"
   ]
  },
  {
   "cell_type": "code",
   "execution_count": null,
   "metadata": {
    "ExecuteTime": {
     "end_time": "2023-05-07T04:05:25.080571Z",
     "start_time": "2023-05-07T04:05:24.323062Z"
    }
   },
   "outputs": [],
   "source": [
    "data.show()"
   ]
  },
  {
   "cell_type": "code",
   "execution_count": null,
   "metadata": {
    "ExecuteTime": {
     "end_time": "2023-05-07T04:06:37.848502Z",
     "start_time": "2023-05-07T04:06:37.369720Z"
    }
   },
   "outputs": [],
   "source": [
    "data = normalize_column(\"integers\", data)"
   ]
  },
  {
   "cell_type": "code",
   "execution_count": null,
   "metadata": {
    "ExecuteTime": {
     "end_time": "2023-05-07T04:06:45.518285Z",
     "start_time": "2023-05-07T04:06:44.366019Z"
    }
   },
   "outputs": [],
   "source": [
    "data.show()"
   ]
  },
  {
   "cell_type": "code",
   "execution_count": null,
   "metadata": {
    "ExecuteTime": {
     "end_time": "2023-05-07T04:07:21.132464Z",
     "start_time": "2023-05-07T04:07:20.616823Z"
    }
   },
   "outputs": [],
   "source": [
    "data = normalize_column(\"fruits_embed\", data)"
   ]
  },
  {
   "cell_type": "code",
   "execution_count": null,
   "metadata": {
    "ExecuteTime": {
     "end_time": "2023-05-07T04:07:26.004653Z",
     "start_time": "2023-05-07T04:07:25.478652Z"
    }
   },
   "outputs": [],
   "source": [
    "data.show()"
   ]
  },
  {
   "cell_type": "code",
   "execution_count": null,
   "metadata": {},
   "outputs": [],
   "source": [
    "# Seperate embedding for time (seconds past midnight)\n",
    "# Get_column_names()\n",
    "# Is_string_column()\n",
    "# Create a pipeline from above functions (Handle_Dataset(dataframe) -> embedded + normalized dataframe)"
   ]
  },
  {
   "cell_type": "code",
   "execution_count": 7,
   "metadata": {
    "ExecuteTime": {
     "end_time": "2023-05-07T15:22:07.906460Z",
     "start_time": "2023-05-07T15:22:07.895262Z"
    }
   },
   "outputs": [],
   "source": [
    "from pyspark.sql.functions import hour, minute\n",
    "def embed_time(df):\n",
    "    # Convert to seconds since midnight\n",
    "    df = df.withColumn('Time', hour('Time') * 3600 + minute('Time') * 60)\n",
    "    return df"
   ]
  },
  {
   "cell_type": "code",
   "execution_count": 8,
   "metadata": {
    "ExecuteTime": {
     "end_time": "2023-05-07T15:22:10.840678Z",
     "start_time": "2023-05-07T15:22:10.774154Z"
    }
   },
   "outputs": [],
   "source": [
    "# Sample dataframe\n",
    "df = spark.createDataFrame([('23:59',), ('13:45',), ('21:15',)], ['Time'])"
   ]
  },
  {
   "cell_type": "code",
   "execution_count": 9,
   "metadata": {
    "ExecuteTime": {
     "end_time": "2023-05-07T15:22:12.722924Z",
     "start_time": "2023-05-07T15:22:12.134234Z"
    }
   },
   "outputs": [
    {
     "name": "stdout",
     "output_type": "stream",
     "text": [
      "+-----+\n",
      "| Time|\n",
      "+-----+\n",
      "|23:59|\n",
      "|13:45|\n",
      "|21:15|\n",
      "+-----+\n",
      "\n"
     ]
    }
   ],
   "source": [
    "df.show()"
   ]
  },
  {
   "cell_type": "code",
   "execution_count": 10,
   "metadata": {
    "ExecuteTime": {
     "end_time": "2023-05-07T15:22:25.338401Z",
     "start_time": "2023-05-07T15:22:25.245287Z"
    }
   },
   "outputs": [],
   "source": [
    "df = embed_time(df)"
   ]
  },
  {
   "cell_type": "code",
   "execution_count": 11,
   "metadata": {
    "ExecuteTime": {
     "end_time": "2023-05-07T15:22:27.018839Z",
     "start_time": "2023-05-07T15:22:26.521303Z"
    },
    "scrolled": true
   },
   "outputs": [
    {
     "name": "stdout",
     "output_type": "stream",
     "text": [
      "+-----+\n",
      "| Time|\n",
      "+-----+\n",
      "|86340|\n",
      "|49500|\n",
      "|76500|\n",
      "+-----+\n",
      "\n"
     ]
    }
   ],
   "source": [
    "df.show()"
   ]
  },
  {
   "cell_type": "code",
   "execution_count": 5,
   "metadata": {
    "ExecuteTime": {
     "end_time": "2023-05-07T21:58:38.373407Z",
     "start_time": "2023-05-07T21:58:38.368078Z"
    },
    "code_folding": []
   },
   "outputs": [],
   "source": [
    "def get_col_names(df):\n",
    "    col_names = []\n",
    "    for col in df.dtypes:\n",
    "        col_names.append((col[0], col[1]))\n",
    "    return col_names"
   ]
  },
  {
   "cell_type": "code",
   "execution_count": 14,
   "metadata": {
    "ExecuteTime": {
     "end_time": "2023-05-07T22:00:06.316706Z",
     "start_time": "2023-05-07T22:00:06.245455Z"
    }
   },
   "outputs": [],
   "source": [
    "data = [(\"A\", 1, \"B\", 1.0, \"C\", 1, 1.0),\n",
    "        (\"A\", 2, \"E\", 2.0, \"F\", 2, 2.0),\n",
    "        (\"A\", 3, \"H\", 3.0, \"I\", 3, 3.0),\n",
    "        (\"J\", 4, \"K\", 4.0, \"I\", 4, 4.0),\n",
    "        (\"M\", 5, \"N\", 5.0, \"O\", 5, 5.0)]\n",
    "df = spark.createDataFrame(data, ['col1', 'col2','col3','col4','col5','col6','col7'])"
   ]
  },
  {
   "cell_type": "code",
   "execution_count": 7,
   "metadata": {
    "ExecuteTime": {
     "end_time": "2023-05-07T21:58:59.422530Z",
     "start_time": "2023-05-07T21:58:50.960595Z"
    }
   },
   "outputs": [
    {
     "name": "stdout",
     "output_type": "stream",
     "text": [
      "+----+----+----+----+----+----+----+\n",
      "|col1|col2|col3|col4|col5|col6|col7|\n",
      "+----+----+----+----+----+----+----+\n",
      "|   A|   1|   B| 1.0|   C|   1| 1.0|\n",
      "|   A|   2|   E| 2.0|   F|   2| 2.0|\n",
      "|   A|   3|   H| 3.0|   I|   3| 3.0|\n",
      "|   J|   4|   K| 4.0|   I|   4| 4.0|\n",
      "|   M|   5|   N| 5.0|   O|   5| 5.0|\n",
      "+----+----+----+----+----+----+----+\n",
      "\n"
     ]
    }
   ],
   "source": [
    "df.show()"
   ]
  },
  {
   "cell_type": "code",
   "execution_count": 8,
   "metadata": {
    "ExecuteTime": {
     "end_time": "2023-05-07T21:59:01.326240Z",
     "start_time": "2023-05-07T21:59:01.320031Z"
    }
   },
   "outputs": [],
   "source": [
    "df_cols = get_col_names(df)"
   ]
  },
  {
   "cell_type": "code",
   "execution_count": 9,
   "metadata": {
    "ExecuteTime": {
     "end_time": "2023-05-07T21:59:03.379854Z",
     "start_time": "2023-05-07T21:59:03.361434Z"
    }
   },
   "outputs": [
    {
     "data": {
      "text/plain": [
       "[('col1', 'string'),\n",
       " ('col2', 'bigint'),\n",
       " ('col3', 'string'),\n",
       " ('col4', 'double'),\n",
       " ('col5', 'string'),\n",
       " ('col6', 'bigint'),\n",
       " ('col7', 'double')]"
      ]
     },
     "execution_count": 9,
     "metadata": {},
     "output_type": "execute_result"
    }
   ],
   "source": [
    "df_cols"
   ]
  },
  {
   "cell_type": "code",
   "execution_count": 15,
   "metadata": {
    "ExecuteTime": {
     "end_time": "2023-05-07T22:00:32.346249Z",
     "start_time": "2023-05-07T22:00:08.228050Z"
    }
   },
   "outputs": [],
   "source": [
    "for col in df_cols:\n",
    "    col_name = col[0] \n",
    "    if col[1] == 'string':\n",
    "        mapping = get_string_mapping(col_name, df)\n",
    "        df = get_embedding(col_name, mapping, df)\n",
    "        df = normalize_column_2(col_name + \"_embed\", df)\n",
    "    else:\n",
    "        df = normalize_column_2(col_name, df)"
   ]
  },
  {
   "cell_type": "code",
   "execution_count": 16,
   "metadata": {
    "ExecuteTime": {
     "end_time": "2023-05-07T22:00:38.320450Z",
     "start_time": "2023-05-07T22:00:37.293458Z"
    }
   },
   "outputs": [
    {
     "name": "stdout",
     "output_type": "stream",
     "text": [
      "+----------+----+----------+----+--------------------+----+----+\n",
      "|col1_embed|col2|col3_embed|col4|col5_embed          |col6|col7|\n",
      "+----------+----+----------+----+--------------------+----+----+\n",
      "|1.0       |-1.0|0.0       |-1.0|0.33333333333333326 |-1.0|-1.0|\n",
      "|1.0       |-0.5|-0.5      |-0.5|-1.0                |-0.5|-0.5|\n",
      "|1.0       |0.0 |1.0       |0.0 |1.0                 |0.0 |0.0 |\n",
      "|0.0       |0.5 |-1.0      |0.5 |1.0                 |0.5 |0.5 |\n",
      "|-1.0      |1.0 |0.5       |1.0 |-0.33333333333333337|1.0 |1.0 |\n",
      "+----------+----+----------+----+--------------------+----+----+\n",
      "\n"
     ]
    }
   ],
   "source": [
    "df.show(vertical=False, truncate=False)"
   ]
  },
  {
   "cell_type": "code",
   "execution_count": 51,
   "metadata": {
    "ExecuteTime": {
     "end_time": "2023-05-07T15:53:21.830810Z",
     "start_time": "2023-05-07T15:53:21.808303Z"
    }
   },
   "outputs": [
    {
     "name": "stdout",
     "output_type": "stream",
     "text": [
      "root\n",
      " |-- col1_embed_normalized: double (nullable = true)\n",
      " |-- col2_normalized: double (nullable = true)\n",
      " |-- col3_embed_normalized: double (nullable = true)\n",
      " |-- col4_normalized: double (nullable = true)\n",
      " |-- col5_embed_normalized: double (nullable = true)\n",
      " |-- col6_normalized: double (nullable = true)\n",
      " |-- col7_normalized: double (nullable = true)\n",
      "\n"
     ]
    }
   ],
   "source": [
    "df.printSchema()"
   ]
  },
  {
   "cell_type": "code",
   "execution_count": 10,
   "metadata": {
    "ExecuteTime": {
     "end_time": "2023-05-07T21:59:08.827399Z",
     "start_time": "2023-05-07T21:59:08.817064Z"
    }
   },
   "outputs": [],
   "source": [
    "def normalize_column_2(col_name, dataframe):\n",
    "    max_value = dataframe.select(max(col_name)).collect()[0][0]\n",
    "    min_value = dataframe.select(min(col_name)).collect()[0][0]\n",
    "    diff = max_value - min_value\n",
    "    dataframe = dataframe.withColumn(f\"{col_name}_normalized\",\n",
    "                                     expr(\"(({} - {}) / {}) * 2 - 1\".format(col_name, min_value, diff))).drop(col_name)\n",
    "    dataframe = dataframe.withColumnRenamed(col_name + \"_normalized\", col_name)\n",
    "    return dataframe "
   ]
  },
  {
   "cell_type": "code",
   "execution_count": 19,
   "metadata": {
    "ExecuteTime": {
     "end_time": "2023-05-07T21:36:52.669352Z",
     "start_time": "2023-05-07T21:36:52.086389Z"
    }
   },
   "outputs": [
    {
     "data": {
      "text/plain": [
       "0"
      ]
     },
     "execution_count": 19,
     "metadata": {},
     "output_type": "execute_result"
    }
   ],
   "source": [
    "df.select(min(\"col1_embed\")).collect()[0][0]"
   ]
  },
  {
   "cell_type": "code",
   "execution_count": 16,
   "metadata": {
    "ExecuteTime": {
     "end_time": "2023-05-07T21:35:27.936503Z",
     "start_time": "2023-05-07T21:35:26.617991Z"
    }
   },
   "outputs": [
    {
     "name": "stdout",
     "output_type": "stream",
     "text": [
      "+----+----+----+----+----+----+----------+\n",
      "|col2|col3|col4|col5|col6|col7|col1_embed|\n",
      "+----+----+----+----+----+----+----------+\n",
      "|   1|   B| 1.0|   C|   1| 1.0|         2|\n",
      "|   2|   E| 2.0|   F|   2| 2.0|         2|\n",
      "|   3|   H| 3.0|   I|   3| 3.0|         2|\n",
      "|   4|   K| 4.0|   I|   4| 4.0|         1|\n",
      "|   5|   N| 5.0|   O|   5| 5.0|         0|\n",
      "+----+----+----+----+----+----+----------+\n",
      "\n"
     ]
    }
   ],
   "source": [
    "df.show()"
   ]
  },
  {
   "cell_type": "code",
   "execution_count": 12,
   "metadata": {
    "ExecuteTime": {
     "end_time": "2023-05-07T21:59:53.581109Z",
     "start_time": "2023-05-07T21:59:53.576488Z"
    }
   },
   "outputs": [],
   "source": [
    "from pyspark.sql.functions import min"
   ]
  },
  {
   "cell_type": "code",
   "execution_count": 1,
   "metadata": {
    "ExecuteTime": {
     "end_time": "2023-05-08T19:53:46.247916Z",
     "start_time": "2023-05-08T19:53:45.963000Z"
    }
   },
   "outputs": [
    {
     "ename": "ModuleNotFoundError",
     "evalue": "No module named 'folium'",
     "output_type": "error",
     "traceback": [
      "\u001b[0;31m---------------------------------------------------------------------------\u001b[0m",
      "\u001b[0;31mModuleNotFoundError\u001b[0m                       Traceback (most recent call last)",
      "\u001b[0;32m<ipython-input-1-173c1173bf1c>\u001b[0m in \u001b[0;36m<module>\u001b[0;34m\u001b[0m\n\u001b[0;32m----> 1\u001b[0;31m \u001b[0;32mimport\u001b[0m \u001b[0mfolium\u001b[0m\u001b[0;34m\u001b[0m\u001b[0;34m\u001b[0m\u001b[0m\n\u001b[0m",
      "\u001b[0;31mModuleNotFoundError\u001b[0m: No module named 'folium'"
     ]
    }
   ],
   "source": []
  },
  {
   "cell_type": "code",
   "execution_count": 5,
   "metadata": {
    "ExecuteTime": {
     "end_time": "2023-05-08T19:57:50.134263Z",
     "start_time": "2023-05-08T19:57:50.098246Z"
    }
   },
   "outputs": [
    {
     "ename": "ImportError",
     "evalue": "cannot import name 'hexbin'",
     "output_type": "error",
     "traceback": [
      "\u001b[0;31m---------------------------------------------------------------------------\u001b[0m",
      "\u001b[0;31mImportError\u001b[0m                               Traceback (most recent call last)",
      "\u001b[0;32m<ipython-input-5-03d6a9aaf98d>\u001b[0m in \u001b[0;36m<module>\u001b[0;34m\u001b[0m\n\u001b[0;32m----> 1\u001b[0;31m \u001b[0;32mfrom\u001b[0m \u001b[0mpyspark\u001b[0m\u001b[0;34m.\u001b[0m\u001b[0msql\u001b[0m\u001b[0;34m.\u001b[0m\u001b[0mfunctions\u001b[0m \u001b[0;32mimport\u001b[0m \u001b[0mhexbin\u001b[0m\u001b[0;34m\u001b[0m\u001b[0;34m\u001b[0m\u001b[0m\n\u001b[0m\u001b[1;32m      2\u001b[0m \u001b[0;34m\u001b[0m\u001b[0m\n\u001b[1;32m      3\u001b[0m \u001b[0;31m# create a DataFrame with longitude and latitude columns\u001b[0m\u001b[0;34m\u001b[0m\u001b[0;34m\u001b[0m\u001b[0;34m\u001b[0m\u001b[0m\n\u001b[1;32m      4\u001b[0m \u001b[0mdf\u001b[0m \u001b[0;34m=\u001b[0m \u001b[0mspark\u001b[0m\u001b[0;34m.\u001b[0m\u001b[0mcreateDataFrame\u001b[0m\u001b[0;34m(\u001b[0m\u001b[0;34m[\u001b[0m\u001b[0;34m(\u001b[0m\u001b[0;36m40.7128\u001b[0m\u001b[0;34m,\u001b[0m \u001b[0;34m-\u001b[0m\u001b[0;36m74.0060\u001b[0m\u001b[0;34m)\u001b[0m\u001b[0;34m,\u001b[0m \u001b[0;34m(\u001b[0m\u001b[0;36m37.7749\u001b[0m\u001b[0;34m,\u001b[0m \u001b[0;34m-\u001b[0m\u001b[0;36m122.4194\u001b[0m\u001b[0;34m)\u001b[0m\u001b[0;34m,\u001b[0m \u001b[0;34m(\u001b[0m\u001b[0;36m41.8781\u001b[0m\u001b[0;34m,\u001b[0m \u001b[0;34m-\u001b[0m\u001b[0;36m87.6298\u001b[0m\u001b[0;34m)\u001b[0m\u001b[0;34m]\u001b[0m\u001b[0;34m,\u001b[0m \u001b[0;34m[\u001b[0m\u001b[0;34m\"latitude\"\u001b[0m\u001b[0;34m,\u001b[0m \u001b[0;34m\"longitude\"\u001b[0m\u001b[0;34m]\u001b[0m\u001b[0;34m)\u001b[0m\u001b[0;34m\u001b[0m\u001b[0;34m\u001b[0m\u001b[0m\n\u001b[1;32m      5\u001b[0m \u001b[0;34m\u001b[0m\u001b[0m\n",
      "\u001b[0;31mImportError\u001b[0m: cannot import name 'hexbin'"
     ]
    }
   ],
   "source": [
    "from pyspark.sql.functions import hexbin\n",
    "\n",
    "# create a DataFrame with longitude and latitude columns\n",
    "df = spark.createDataFrame([(40.7128, -74.0060), (37.7749, -122.4194), (41.8781, -87.6298)], [\"latitude\", \"longitude\"])\n",
    "\n",
    "# use hexbin to create hexagonal bins based on the longitude and latitude columns\n",
    "hexbins = df.select(hexbin(\"longitude\", \"latitude\").alias(\"hexagon\"))\n",
    "\n",
    "# group by the hexagonal bins and count the number of points in each bin\n",
    "hexcounts = hexbins.groupBy(\"hexagon\").count()\n",
    "\n",
    "# show the resulting hexagonal bin counts\n",
    "hexcounts.show()\n",
    "\n"
   ]
  },
  {
   "cell_type": "code",
   "execution_count": 8,
   "metadata": {
    "ExecuteTime": {
     "end_time": "2023-05-08T20:00:00.360821Z",
     "start_time": "2023-05-08T20:00:00.132265Z"
    }
   },
   "outputs": [
    {
     "data": {
      "image/png": "[encoded data removed]",
      "text/plain": [
       "<Figure size 432x288 with 1 Axes>"
      ]
     },
     "metadata": {
      "needs_background": "light"
     },
     "output_type": "display_data"
    }
   ],
   "source": [
    "import pandas as pd\n",
    "import numpy as np\n",
    "\n",
    "# Generate random longitude and latitude data\n",
    "np.random.seed(123)\n",
    "longitude = np.random.uniform(low=-180.0, high=180.0, size=1000)\n",
    "latitude = np.random.uniform(low=-90.0, high=90.0, size=1000)\n",
    "\n",
    "# Create the dataframe\n",
    "df = pd.DataFrame({'longitude': longitude, 'latitude': latitude})\n",
    "\n",
    "\n",
    "# Create a 2D histogram using latitude and longitude as x and y\n",
    "heatmap, xedges, yedges = np.histogram2d(df['latitude'], df['longitude'], bins=100)\n",
    "\n",
    "# Set the limits of the plot\n",
    "extent = [xedges[0], xedges[-1], yedges[0], yedges[-1]]\n",
    "\n",
    "# Plot the heatmap\n",
    "plt.clf()\n",
    "plt.imshow(heatmap.T, extent=extent, origin='lower')\n",
    "plt.show()\n"
   ]
  },
  {
   "cell_type": "code",
   "execution_count": null,
   "metadata": {},
   "outputs": [],
   "source": []
  }
 ],
 "metadata": {
  "kernelspec": {
   "display_name": "Python 3",
   "language": "python",
   "name": "python3"
  },
  "language_info": {
   "codemirror_mode": {
    "name": "ipython",
    "version": 3
   },
   "file_extension": ".py",
   "mimetype": "text/x-python",
   "name": "python",
   "nbconvert_exporter": "python",
   "pygments_lexer": "ipython3",
   "version": "3.6.7"
  },
  "toc": {
   "base_numbering": 1,
   "nav_menu": {},
   "number_sections": true,
   "sideBar": true,
   "skip_h1_title": false,
   "title_cell": "Table of Contents",
   "title_sidebar": "Contents",
   "toc_cell": false,
   "toc_position": {},
   "toc_section_display": true,
   "toc_window_display": false
  }
 },
 "nbformat": 4,
 "nbformat_minor": 2
}
