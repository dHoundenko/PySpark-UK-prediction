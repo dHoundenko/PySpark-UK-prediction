{
 "cells": [
  {
   "cell_type": "code",
   "execution_count": 24,
   "metadata": {
    "ExecuteTime": {
     "end_time": "2023-05-06T23:06:55.186213Z",
     "start_time": "2023-05-06T23:06:55.176819Z"
    }
   },
   "outputs": [],
   "source": [
    "import os\n",
    "import numpy as np\n",
    "import pandas as pd\n",
    "from pyspark.sql.types import *\n",
    "from pyspark.ml import Pipeline\n",
    "from pyspark.sql import functions as f\n",
    "from pyspark.sql.functions import udf, StringType, col\n",
    "from pyspark.sql import SparkSession, functions as F\n",
    "from pyspark.ml.evaluation import MulticlassClassificationEvaluator\n",
    "from pyspark.ml.classification import MultilayerPerceptronClassifier\n",
    "from pyspark.ml.feature import OneHotEncoder, VectorAssembler, StringIndexer\n",
    "from pyspark.sql.functions import when"
   ]
  },
  {
   "cell_type": "code",
   "execution_count": 25,
   "metadata": {
    "ExecuteTime": {
     "end_time": "2023-05-06T23:06:55.601566Z",
     "start_time": "2023-05-06T23:06:55.596929Z"
    }
   },
   "outputs": [],
   "source": [
    "#Building session now\n",
    "spark = SparkSession.builder.appName('deep_learning_with_spark').getOrCreate()\n"
   ]
  },
  {
   "cell_type": "code",
   "execution_count": 26,
   "metadata": {
    "ExecuteTime": {
     "end_time": "2023-05-06T23:07:10.759466Z",
     "start_time": "2023-05-06T23:06:55.992371Z"
    }
   },
   "outputs": [
    {
     "name": "stdout",
     "output_type": "stream",
     "text": [
      "1504150\n"
     ]
    }
   ],
   "source": [
    "# Load each CSV file into a separate Spark DataFrame\n",
    "df1 = spark.read.csv('/mnt/bdpa23-group14-pvc/accidents_2005_to_2007.csv', header=True, inferSchema=True)\n",
    "df2 = spark.read.csv('/mnt/bdpa23-group14-pvc/accidents_2009_to_2011.csv', header=True, inferSchema=True)\n",
    "df3 = spark.read.csv('/mnt/bdpa23-group14-pvc/accidents_2012_to_2014.csv', header=True, inferSchema=True)\n",
    "#test = spark.read.csv('/mnt/bdpa23-group14-pvc/test100.csv', header=True, inferSchema=True)\n",
    "# Combine the DataFrames into a single DataFrame\n",
    "data = df1.union(df2).union(df3)\n",
    "\n",
    "#data = test\n",
    "#OLD_FILE: url = \"https://raw.githubusercontent.com/Apress/learn-pyspark/master/chap_8/dl_data.csv\"\n",
    "#OLD_FILE: from pyspark import SparkFiles\n",
    "#OLD_FILE: spark.sparkContext.addFile(url)\n",
    "\n",
    "#OLD_FILE: = spark.read.csv(\"file://\"+SparkFiles.get(\"dl_data.csv\"), header=True, inferSchema= Tru\n",
    "# test test atest test test test test test\n",
    "print(data.count())\n",
    "\n",
    "data = data.withColumn('Accident_Severity', when(data.Accident_Severity == 1, 0).otherwise(data.Accident_Severity))\n",
    "data = data.withColumn('Accident_Severity', when(data.Accident_Severity == 2, 1).otherwise(data.Accident_Severity))\n",
    "data = data.withColumn('Accident_Severity', when(data.Accident_Severity == 3, 2).otherwise(data.Accident_Severity))"
   ]
  },
  {
   "cell_type": "code",
   "execution_count": 27,
   "metadata": {
    "ExecuteTime": {
     "end_time": "2023-05-06T23:07:17.454117Z",
     "start_time": "2023-05-06T23:07:10.819400Z"
    }
   },
   "outputs": [
    {
     "name": "stdout",
     "output_type": "stream",
     "text": [
      "1501957\n"
     ]
    }
   ],
   "source": [
    "\n",
    "new_data = data\n",
    "new_data = new_data.drop(\"Junction_Detail\")\n",
    "new_data = new_data.drop(\"Junction_Control\")\n",
    "new_data = new_data.drop(\"Location_Easting_OSGR\")\n",
    "new_data = new_data.drop(\"Location_Northing_OSGR\")\n",
    "new_data = new_data.drop(\"Longitude\")\n",
    "new_data = new_data.drop(\"Latitude\")\n",
    "new_data = new_data.drop(\"Police_Force\")\n",
    "new_data = new_data.drop(\"Date\")\n",
    "# new_data = new_data.drop(\"Time\")\n",
    "new_data = new_data.drop(\"Local_Authority_(District)\")\n",
    "new_data = new_data.drop(\"Local_Authority_(Highway)\")\n",
    "new_data = new_data.drop(\"1st_Road_Class\")\n",
    "new_data = new_data.drop(\"1st_Road_Number\")\n",
    "new_data = new_data.drop(\"2nd_Road_Class\")\n",
    "new_data = new_data.drop(\"2nd_Road_Number\")\n",
    "new_data = new_data.drop(\"Pedestrian_Crossing-Human_Control\")\n",
    "new_data = new_data.drop(\"Pedestrian_Crossing-Physical_Facilities\")\n",
    "#new_data = new_data.drop(\"Light_Conditions\")\n",
    "#new_data = new_data.drop(\"Road_Surface_Conditions\")\n",
    "new_data = new_data.drop(\"Carriageway_Hazards\")\n",
    "#new_data = new_data.drop(\"Urban_or_Rural_Area\")\n",
    "new_data = new_data.drop(\"Did_Police_Officer_Attend_Scene_of_Accident\")\n",
    "new_data = new_data.drop(\"LSOA_of_Accident_Location\")\n",
    "\n",
    "new_data = new_data.drop(\"Road_Type\")\n",
    "new_data = new_data.drop(\"Special_Conditions_at_Site\")\n",
    "new_data = new_data.drop(\"Accident_Index\")\n",
    "new_data = new_data.dropna(how='any', thresh=None, subset=None)\n",
    "print(new_data.count())"
   ]
  },
  {
   "cell_type": "code",
   "execution_count": 33,
   "metadata": {
    "ExecuteTime": {
     "end_time": "2023-05-06T23:10:06.309223Z",
     "start_time": "2023-05-06T23:10:04.892237Z"
    }
   },
   "outputs": [
    {
     "name": "stdout",
     "output_type": "stream",
     "text": [
      "-RECORD 0---------------------------------------\n",
      " label                   | 1                    \n",
      " Number_of_Vehicles      | 1.0                  \n",
      " Number_of_Casualties    | 1.0                  \n",
      " Day_of_Week             | 3.0                  \n",
      " Time                    | 17:42                \n",
      " Speed_limit             | 30.0                 \n",
      " Light_Conditions        | Daylight: Street ... \n",
      " Weather_Conditions      | Raining without h... \n",
      " Road_Surface_Conditions | Wet/Damp             \n",
      " Urban_or_Rural_Area     | 1.0                  \n",
      " Year                    | 2005.0               \n",
      "-RECORD 1---------------------------------------\n",
      " label                   | 2                    \n",
      " Number_of_Vehicles      | 1.0                  \n",
      " Number_of_Casualties    | 1.0                  \n",
      " Day_of_Week             | 4.0                  \n",
      " Time                    | 17:36                \n",
      " Speed_limit             | 30.0                 \n",
      " Light_Conditions        | Darkness: Street ... \n",
      " Weather_Conditions      | Fine without high... \n",
      " Road_Surface_Conditions | Dry                  \n",
      " Urban_or_Rural_Area     | 1.0                  \n",
      " Year                    | 2005.0               \n",
      "-RECORD 2---------------------------------------\n",
      " label                   | 2                    \n",
      " Number_of_Vehicles      | 2.0                  \n",
      " Number_of_Casualties    | 1.0                  \n",
      " Day_of_Week             | 5.0                  \n",
      " Time                    | 00:15                \n",
      " Speed_limit             | 30.0                 \n",
      " Light_Conditions        | Darkness: Street ... \n",
      " Weather_Conditions      | Fine without high... \n",
      " Road_Surface_Conditions | Dry                  \n",
      " Urban_or_Rural_Area     | 1.0                  \n",
      " Year                    | 2005.0               \n",
      "-RECORD 3---------------------------------------\n",
      " label                   | 2                    \n",
      " Number_of_Vehicles      | 1.0                  \n",
      " Number_of_Casualties    | 1.0                  \n",
      " Day_of_Week             | 6.0                  \n",
      " Time                    | 10:35                \n",
      " Speed_limit             | 30.0                 \n",
      " Light_Conditions        | Daylight: Street ... \n",
      " Weather_Conditions      | Fine without high... \n",
      " Road_Surface_Conditions | Dry                  \n",
      " Urban_or_Rural_Area     | 1.0                  \n",
      " Year                    | 2005.0               \n",
      "-RECORD 4---------------------------------------\n",
      " label                   | 2                    \n",
      " Number_of_Vehicles      | 1.0                  \n",
      " Number_of_Casualties    | 1.0                  \n",
      " Day_of_Week             | 2.0                  \n",
      " Time                    | 21:13                \n",
      " Speed_limit             | 30.0                 \n",
      " Light_Conditions        | Darkness: Street ... \n",
      " Weather_Conditions      | Fine without high... \n",
      " Road_Surface_Conditions | Wet/Damp             \n",
      " Urban_or_Rural_Area     | 1.0                  \n",
      " Year                    | 2005.0               \n",
      "-RECORD 5---------------------------------------\n",
      " label                   | 2                    \n",
      " Number_of_Vehicles      | 2.0                  \n",
      " Number_of_Casualties    | 1.0                  \n",
      " Day_of_Week             | 3.0                  \n",
      " Time                    | 12:40                \n",
      " Speed_limit             | 30.0                 \n",
      " Light_Conditions        | Daylight: Street ... \n",
      " Weather_Conditions      | Raining without h... \n",
      " Road_Surface_Conditions | Wet/Damp             \n",
      " Urban_or_Rural_Area     | 1.0                  \n",
      " Year                    | 2005.0               \n",
      "-RECORD 6---------------------------------------\n",
      " label                   | 2                    \n",
      " Number_of_Vehicles      | 2.0                  \n",
      " Number_of_Casualties    | 1.0                  \n",
      " Day_of_Week             | 5.0                  \n",
      " Time                    | 20:40                \n",
      " Speed_limit             | 30.0                 \n",
      " Light_Conditions        | Darkness: Street ... \n",
      " Weather_Conditions      | Fine without high... \n",
      " Road_Surface_Conditions | Dry                  \n",
      " Urban_or_Rural_Area     | 1.0                  \n",
      " Year                    | 2005.0               \n",
      "-RECORD 7---------------------------------------\n",
      " label                   | 2                    \n",
      " Number_of_Vehicles      | 1.0                  \n",
      " Number_of_Casualties    | 2.0                  \n",
      " Day_of_Week             | 6.0                  \n",
      " Time                    | 17:35                \n",
      " Speed_limit             | 30.0                 \n",
      " Light_Conditions        | Daylight: Street ... \n",
      " Weather_Conditions      | Fine without high... \n",
      " Road_Surface_Conditions | Dry                  \n",
      " Urban_or_Rural_Area     | 1.0                  \n",
      " Year                    | 2005.0               \n",
      "-RECORD 8---------------------------------------\n",
      " label                   | 2                    \n",
      " Number_of_Vehicles      | 2.0                  \n",
      " Number_of_Casualties    | 2.0                  \n",
      " Day_of_Week             | 7.0                  \n",
      " Time                    | 22:43                \n",
      " Speed_limit             | 30.0                 \n",
      " Light_Conditions        | Darkness: Street ... \n",
      " Weather_Conditions      | Fine without high... \n",
      " Road_Surface_Conditions | Dry                  \n",
      " Urban_or_Rural_Area     | 1.0                  \n",
      " Year                    | 2005.0               \n",
      "-RECORD 9---------------------------------------\n",
      " label                   | 2                    \n",
      " Number_of_Vehicles      | 2.0                  \n",
      " Number_of_Casualties    | 5.0                  \n",
      " Day_of_Week             | 7.0                  \n",
      " Time                    | 16:00                \n",
      " Speed_limit             | 30.0                 \n",
      " Light_Conditions        | Daylight: Street ... \n",
      " Weather_Conditions      | Fine without high... \n",
      " Road_Surface_Conditions | Dry                  \n",
      " Urban_or_Rural_Area     | 1.0                  \n",
      " Year                    | 2005.0               \n",
      "-RECORD 10--------------------------------------\n",
      " label                   | 2                    \n",
      " Number_of_Vehicles      | 1.0                  \n",
      " Number_of_Casualties    | 1.0                  \n",
      " Day_of_Week             | 1.0                  \n",
      " Time                    | 00:42                \n",
      " Speed_limit             | 30.0                 \n",
      " Light_Conditions        | Darkness: Street ... \n",
      " Weather_Conditions      | Fine without high... \n",
      " Road_Surface_Conditions | Dry                  \n",
      " Urban_or_Rural_Area     | 1.0                  \n",
      " Year                    | 2005.0               \n",
      "-RECORD 11--------------------------------------\n",
      " label                   | 2                    \n",
      " Number_of_Vehicles      | 2.0                  \n",
      " Number_of_Casualties    | 1.0                  \n",
      " Day_of_Week             | 3.0                  \n",
      " Time                    | 20:48                \n",
      " Speed_limit             | 30.0                 \n",
      " Light_Conditions        | Darkness: Street ... \n",
      " Weather_Conditions      | Fine without high... \n",
      " Road_Surface_Conditions | Wet/Damp             \n",
      " Urban_or_Rural_Area     | 1.0                  \n",
      " Year                    | 2005.0               \n",
      "-RECORD 12--------------------------------------\n",
      " label                   | 2                    \n",
      " Number_of_Vehicles      | 1.0                  \n",
      " Number_of_Casualties    | 1.0                  \n",
      " Day_of_Week             | 3.0                  \n",
      " Time                    | 12:55                \n",
      " Speed_limit             | 30.0                 \n",
      " Light_Conditions        | Daylight: Street ... \n",
      " Weather_Conditions      | Raining without h... \n",
      " Road_Surface_Conditions | Wet/Damp             \n",
      " Urban_or_Rural_Area     | 1.0                  \n",
      " Year                    | 2005.0               \n",
      "-RECORD 13--------------------------------------\n",
      " label                   | 2                    \n",
      " Number_of_Vehicles      | 2.0                  \n",
      " Number_of_Casualties    | 1.0                  \n",
      " Day_of_Week             | 3.0                  \n",
      " Time                    | 05:01                \n",
      " Speed_limit             | 30.0                 \n",
      " Light_Conditions        | Darkness: Street ... \n",
      " Weather_Conditions      | Raining without h... \n",
      " Road_Surface_Conditions | Wet/Damp             \n",
      " Urban_or_Rural_Area     | 1.0                  \n",
      " Year                    | 2005.0               \n",
      "-RECORD 14--------------------------------------\n",
      " label                   | 2                    \n",
      " Number_of_Vehicles      | 1.0                  \n",
      " Number_of_Casualties    | 2.0                  \n",
      " Day_of_Week             | 3.0                  \n",
      " Time                    | 11:15                \n",
      " Speed_limit             | 30.0                 \n",
      " Light_Conditions        | Daylight: Street ... \n",
      " Weather_Conditions      | Fine without high... \n",
      " Road_Surface_Conditions | Dry                  \n",
      " Urban_or_Rural_Area     | 1.0                  \n",
      " Year                    | 2005.0               \n",
      "-RECORD 15--------------------------------------\n",
      " label                   | 2                    \n",
      " Number_of_Vehicles      | 1.0                  \n",
      " Number_of_Casualties    | 1.0                  \n",
      " Day_of_Week             | 3.0                  \n",
      " Time                    | 10:50                \n",
      " Speed_limit             | 30.0                 \n",
      " Light_Conditions        | Daylight: Street ... \n",
      " Weather_Conditions      | Fine without high... \n",
      " Road_Surface_Conditions | Dry                  \n",
      " Urban_or_Rural_Area     | 1.0                  \n",
      " Year                    | 2005.0               \n",
      "-RECORD 16--------------------------------------\n",
      " label                   | 1                    \n",
      " Number_of_Vehicles      | 2.0                  \n",
      " Number_of_Casualties    | 1.0                  \n",
      " Day_of_Week             | 5.0                  \n",
      " Time                    | 00:15                \n",
      " Speed_limit             | 30.0                 \n",
      " Light_Conditions        | Darkness: Street ... \n",
      " Weather_Conditions      | Fine without high... \n",
      " Road_Surface_Conditions | Dry                  \n",
      " Urban_or_Rural_Area     | 1.0                  \n",
      " Year                    | 2005.0               \n",
      "-RECORD 17--------------------------------------\n",
      " label                   | 2                    \n",
      " Number_of_Vehicles      | 2.0                  \n",
      " Number_of_Casualties    | 1.0                  \n",
      " Day_of_Week             | 6.0                  \n",
      " Time                    | 09:15                \n",
      " Speed_limit             | 30.0                 \n",
      " Light_Conditions        | Daylight: Street ... \n",
      " Weather_Conditions      | Fine without high... \n",
      " Road_Surface_Conditions | Dry                  \n",
      " Urban_or_Rural_Area     | 1.0                  \n",
      " Year                    | 2005.0               \n",
      "-RECORD 18--------------------------------------\n",
      " label                   | 2                    \n",
      " Number_of_Vehicles      | 2.0                  \n",
      " Number_of_Casualties    | 1.0                  \n",
      " Day_of_Week             | 6.0                  \n",
      " Time                    | 21:16                \n",
      " Speed_limit             | 30.0                 \n",
      " Light_Conditions        | Darkness: Street ... \n",
      " Weather_Conditions      | Fine without high... \n",
      " Road_Surface_Conditions | Dry                  \n",
      " Urban_or_Rural_Area     | 1.0                  \n",
      " Year                    | 2005.0               \n",
      "-RECORD 19--------------------------------------\n",
      " label                   | 1                    \n",
      " Number_of_Vehicles      | 1.0                  \n",
      " Number_of_Casualties    | 1.0                  \n",
      " Day_of_Week             | 7.0                  \n",
      " Time                    | 03:00                \n",
      " Speed_limit             | 30.0                 \n",
      " Light_Conditions        | Darkness: Street ... \n",
      " Weather_Conditions      | Fine without high... \n",
      " Road_Surface_Conditions | Dry                  \n",
      " Urban_or_Rural_Area     | 1.0                  \n",
      " Year                    | 2005.0               \n",
      "only showing top 20 rows\n",
      "\n"
     ]
    }
   ],
   "source": [
    "new_data.show(vertical=True)"
   ]
  },
  {
   "cell_type": "code",
   "execution_count": 34,
   "metadata": {
    "ExecuteTime": {
     "end_time": "2023-05-06T23:10:07.062237Z",
     "start_time": "2023-05-06T23:10:07.053875Z"
    },
    "scrolled": false
   },
   "outputs": [
    {
     "data": {
      "text/plain": [
       "[('label', 'int'),\n",
       " ('Number_of_Vehicles', 'double'),\n",
       " ('Number_of_Casualties', 'double'),\n",
       " ('Day_of_Week', 'double'),\n",
       " ('Time', 'string'),\n",
       " ('Speed_limit', 'double'),\n",
       " ('Light_Conditions', 'string'),\n",
       " ('Weather_Conditions', 'string'),\n",
       " ('Road_Surface_Conditions', 'string'),\n",
       " ('Urban_or_Rural_Area', 'double'),\n",
       " ('Year', 'double')]"
      ]
     },
     "execution_count": 34,
     "metadata": {},
     "output_type": "execute_result"
    }
   ],
   "source": [
    "new_data.dtypes"
   ]
  },
  {
   "cell_type": "code",
   "execution_count": 35,
   "metadata": {
    "ExecuteTime": {
     "end_time": "2023-05-06T23:10:10.679924Z",
     "start_time": "2023-05-06T23:10:10.665686Z"
    }
   },
   "outputs": [],
   "source": [
    "new_data = new_data.withColumnRenamed(\"Accident_Severity\", \"label\")\n",
    "for i, column in zip(new_data.dtypes, new_data.columns):\n",
    "    if i[1] == 'int' and i[0] != 'label':\n",
    "        new_data = new_data.withColumn(column, col(column).cast(\"double\"))"
   ]
  },
  {
   "cell_type": "code",
   "execution_count": 36,
   "metadata": {
    "ExecuteTime": {
     "end_time": "2023-05-06T23:10:12.246409Z",
     "start_time": "2023-05-06T23:10:12.240630Z"
    }
   },
   "outputs": [
    {
     "data": {
      "text/plain": [
       "[('label', 'int'),\n",
       " ('Number_of_Vehicles', 'double'),\n",
       " ('Number_of_Casualties', 'double'),\n",
       " ('Day_of_Week', 'double'),\n",
       " ('Time', 'string'),\n",
       " ('Speed_limit', 'double'),\n",
       " ('Light_Conditions', 'string'),\n",
       " ('Weather_Conditions', 'string'),\n",
       " ('Road_Surface_Conditions', 'string'),\n",
       " ('Urban_or_Rural_Area', 'double'),\n",
       " ('Year', 'double')]"
      ]
     },
     "execution_count": 36,
     "metadata": {},
     "output_type": "execute_result"
    }
   ],
   "source": [
    "new_data.dtypes"
   ]
  },
  {
   "cell_type": "code",
   "execution_count": 37,
   "metadata": {
    "ExecuteTime": {
     "end_time": "2023-05-06T23:10:13.535432Z",
     "start_time": "2023-05-06T23:10:13.519306Z"
    }
   },
   "outputs": [],
   "source": [
    "train, validation, test = new_data.randomSplit([0.7, 0.2, 0.1], 1234)"
   ]
  },
  {
   "cell_type": "code",
   "execution_count": 38,
   "metadata": {
    "ExecuteTime": {
     "end_time": "2023-05-06T23:10:14.703002Z",
     "start_time": "2023-05-06T23:10:14.664456Z"
    }
   },
   "outputs": [],
   "source": [
    "categorical_columns = [item[0] for item in new_data.dtypes if item[1].startswith('string')]\n",
    "numeric_columns = [item[0] for item in new_data.dtypes if item[1].startswith('double')]\n",
    "indexers = [StringIndexer(inputCol=column, outputCol='{0}_index'.format(column)) for column in categorical_columns]"
   ]
  },
  {
   "cell_type": "code",
   "execution_count": 39,
   "metadata": {
    "ExecuteTime": {
     "end_time": "2023-05-06T23:10:15.712199Z",
     "start_time": "2023-05-06T23:10:15.706804Z"
    }
   },
   "outputs": [
    {
     "name": "stdout",
     "output_type": "stream",
     "text": [
      "['Time', 'Light_Conditions', 'Weather_Conditions', 'Road_Surface_Conditions'] ['Number_of_Vehicles', 'Number_of_Casualties', 'Day_of_Week', 'Speed_limit', 'Urban_or_Rural_Area', 'Year']\n"
     ]
    }
   ],
   "source": [
    "print(categorical_columns, numeric_columns)"
   ]
  },
  {
   "cell_type": "code",
   "execution_count": 40,
   "metadata": {
    "ExecuteTime": {
     "end_time": "2023-05-06T23:10:16.870139Z",
     "start_time": "2023-05-06T23:10:16.853110Z"
    }
   },
   "outputs": [],
   "source": [
    "featuresCreator = VectorAssembler(inputCols=[indexer.getOutputCol() for indexer in indexers] + numeric_columns, outputCol=\"features\")\n"
   ]
  },
  {
   "cell_type": "code",
   "execution_count": 41,
   "metadata": {
    "ExecuteTime": {
     "end_time": "2023-05-06T23:10:18.041368Z",
     "start_time": "2023-05-06T23:10:18.024427Z"
    }
   },
   "outputs": [
    {
     "name": "stdout",
     "output_type": "stream",
     "text": [
      "features\n"
     ]
    }
   ],
   "source": [
    "layers = [len(featuresCreator.getInputCols()), 4, 2, 3]\n",
    "classifier = MultilayerPerceptronClassifier(labelCol='label', featuresCol='features', maxIter=100, layers=layers, blockSize=128, seed=1234)\n",
    "print(classifier.getFeaturesCol())\n"
   ]
  },
  {
   "cell_type": "code",
   "execution_count": 42,
   "metadata": {
    "ExecuteTime": {
     "end_time": "2023-05-06T23:10:18.518537Z",
     "start_time": "2023-05-06T23:10:18.508923Z"
    }
   },
   "outputs": [
    {
     "name": "stdout",
     "output_type": "stream",
     "text": [
      "stages: a list of pipeline stages (current: [StringIndexer_eefa4bbaf524, StringIndexer_4e952b98f8f9, StringIndexer_cc60e36433f7, StringIndexer_00ed6a7fda53, VectorAssembler_4e72f964936d, MultilayerPerceptronClassifier_35131ac99008])\n"
     ]
    }
   ],
   "source": [
    "pipeline = Pipeline(stages=indexers + [featuresCreator, classifier])\n",
    "print(pipeline.explainParams())\n"
   ]
  },
  {
   "cell_type": "code",
   "execution_count": 48,
   "metadata": {
    "ExecuteTime": {
     "end_time": "2023-05-06T23:40:35.900750Z",
     "start_time": "2023-05-06T23:40:32.384961Z"
    }
   },
   "outputs": [
    {
     "ename": "KeyboardInterrupt",
     "evalue": "",
     "output_type": "error",
     "traceback": [
      "\u001b[0;31m---------------------------------------------------------------------------\u001b[0m",
      "\u001b[0;31mKeyboardInterrupt\u001b[0m                         Traceback (most recent call last)",
      "\u001b[0;32m<ipython-input-48-b9f07cee8f4e>\u001b[0m in \u001b[0;36m<module>\u001b[0;34m\u001b[0m\n\u001b[0;32m----> 1\u001b[0;31m \u001b[0mmodel\u001b[0m \u001b[0;34m=\u001b[0m \u001b[0mpipeline\u001b[0m\u001b[0;34m.\u001b[0m\u001b[0mfit\u001b[0m\u001b[0;34m(\u001b[0m\u001b[0mtrain\u001b[0m\u001b[0;34m)\u001b[0m\u001b[0;34m\u001b[0m\u001b[0;34m\u001b[0m\u001b[0m\n\u001b[0m",
      "\u001b[0;32m/usr/local/spark/python/pyspark/ml/base.py\u001b[0m in \u001b[0;36mfit\u001b[0;34m(self, dataset, params)\u001b[0m\n\u001b[1;32m    130\u001b[0m                 \u001b[0;32mreturn\u001b[0m \u001b[0mself\u001b[0m\u001b[0;34m.\u001b[0m\u001b[0mcopy\u001b[0m\u001b[0;34m(\u001b[0m\u001b[0mparams\u001b[0m\u001b[0;34m)\u001b[0m\u001b[0;34m.\u001b[0m\u001b[0m_fit\u001b[0m\u001b[0;34m(\u001b[0m\u001b[0mdataset\u001b[0m\u001b[0;34m)\u001b[0m\u001b[0;34m\u001b[0m\u001b[0;34m\u001b[0m\u001b[0m\n\u001b[1;32m    131\u001b[0m             \u001b[0;32melse\u001b[0m\u001b[0;34m:\u001b[0m\u001b[0;34m\u001b[0m\u001b[0;34m\u001b[0m\u001b[0m\n\u001b[0;32m--> 132\u001b[0;31m                 \u001b[0;32mreturn\u001b[0m \u001b[0mself\u001b[0m\u001b[0;34m.\u001b[0m\u001b[0m_fit\u001b[0m\u001b[0;34m(\u001b[0m\u001b[0mdataset\u001b[0m\u001b[0;34m)\u001b[0m\u001b[0;34m\u001b[0m\u001b[0;34m\u001b[0m\u001b[0m\n\u001b[0m\u001b[1;32m    133\u001b[0m         \u001b[0;32melse\u001b[0m\u001b[0;34m:\u001b[0m\u001b[0;34m\u001b[0m\u001b[0;34m\u001b[0m\u001b[0m\n\u001b[1;32m    134\u001b[0m             raise ValueError(\"Params must be either a param map or a list/tuple of param maps, \"\n",
      "\u001b[0;32m/usr/local/spark/python/pyspark/ml/pipeline.py\u001b[0m in \u001b[0;36m_fit\u001b[0;34m(self, dataset)\u001b[0m\n\u001b[1;32m    107\u001b[0m                     \u001b[0mdataset\u001b[0m \u001b[0;34m=\u001b[0m \u001b[0mstage\u001b[0m\u001b[0;34m.\u001b[0m\u001b[0mtransform\u001b[0m\u001b[0;34m(\u001b[0m\u001b[0mdataset\u001b[0m\u001b[0;34m)\u001b[0m\u001b[0;34m\u001b[0m\u001b[0;34m\u001b[0m\u001b[0m\n\u001b[1;32m    108\u001b[0m                 \u001b[0;32melse\u001b[0m\u001b[0;34m:\u001b[0m  \u001b[0;31m# must be an Estimator\u001b[0m\u001b[0;34m\u001b[0m\u001b[0;34m\u001b[0m\u001b[0m\n\u001b[0;32m--> 109\u001b[0;31m                     \u001b[0mmodel\u001b[0m \u001b[0;34m=\u001b[0m \u001b[0mstage\u001b[0m\u001b[0;34m.\u001b[0m\u001b[0mfit\u001b[0m\u001b[0;34m(\u001b[0m\u001b[0mdataset\u001b[0m\u001b[0;34m)\u001b[0m\u001b[0;34m\u001b[0m\u001b[0;34m\u001b[0m\u001b[0m\n\u001b[0m\u001b[1;32m    110\u001b[0m                     \u001b[0mtransformers\u001b[0m\u001b[0;34m.\u001b[0m\u001b[0mappend\u001b[0m\u001b[0;34m(\u001b[0m\u001b[0mmodel\u001b[0m\u001b[0;34m)\u001b[0m\u001b[0;34m\u001b[0m\u001b[0;34m\u001b[0m\u001b[0m\n\u001b[1;32m    111\u001b[0m                     \u001b[0;32mif\u001b[0m \u001b[0mi\u001b[0m \u001b[0;34m<\u001b[0m \u001b[0mindexOfLastEstimator\u001b[0m\u001b[0;34m:\u001b[0m\u001b[0;34m\u001b[0m\u001b[0;34m\u001b[0m\u001b[0m\n",
      "\u001b[0;32m/usr/local/spark/python/pyspark/ml/base.py\u001b[0m in \u001b[0;36mfit\u001b[0;34m(self, dataset, params)\u001b[0m\n\u001b[1;32m    130\u001b[0m                 \u001b[0;32mreturn\u001b[0m \u001b[0mself\u001b[0m\u001b[0;34m.\u001b[0m\u001b[0mcopy\u001b[0m\u001b[0;34m(\u001b[0m\u001b[0mparams\u001b[0m\u001b[0;34m)\u001b[0m\u001b[0;34m.\u001b[0m\u001b[0m_fit\u001b[0m\u001b[0;34m(\u001b[0m\u001b[0mdataset\u001b[0m\u001b[0;34m)\u001b[0m\u001b[0;34m\u001b[0m\u001b[0;34m\u001b[0m\u001b[0m\n\u001b[1;32m    131\u001b[0m             \u001b[0;32melse\u001b[0m\u001b[0;34m:\u001b[0m\u001b[0;34m\u001b[0m\u001b[0;34m\u001b[0m\u001b[0m\n\u001b[0;32m--> 132\u001b[0;31m                 \u001b[0;32mreturn\u001b[0m \u001b[0mself\u001b[0m\u001b[0;34m.\u001b[0m\u001b[0m_fit\u001b[0m\u001b[0;34m(\u001b[0m\u001b[0mdataset\u001b[0m\u001b[0;34m)\u001b[0m\u001b[0;34m\u001b[0m\u001b[0;34m\u001b[0m\u001b[0m\n\u001b[0m\u001b[1;32m    133\u001b[0m         \u001b[0;32melse\u001b[0m\u001b[0;34m:\u001b[0m\u001b[0;34m\u001b[0m\u001b[0;34m\u001b[0m\u001b[0m\n\u001b[1;32m    134\u001b[0m             raise ValueError(\"Params must be either a param map or a list/tuple of param maps, \"\n",
      "\u001b[0;32m/usr/local/spark/python/pyspark/ml/wrapper.py\u001b[0m in \u001b[0;36m_fit\u001b[0;34m(self, dataset)\u001b[0m\n\u001b[1;32m    293\u001b[0m \u001b[0;34m\u001b[0m\u001b[0m\n\u001b[1;32m    294\u001b[0m     \u001b[0;32mdef\u001b[0m \u001b[0m_fit\u001b[0m\u001b[0;34m(\u001b[0m\u001b[0mself\u001b[0m\u001b[0;34m,\u001b[0m \u001b[0mdataset\u001b[0m\u001b[0;34m)\u001b[0m\u001b[0;34m:\u001b[0m\u001b[0;34m\u001b[0m\u001b[0;34m\u001b[0m\u001b[0m\n\u001b[0;32m--> 295\u001b[0;31m         \u001b[0mjava_model\u001b[0m \u001b[0;34m=\u001b[0m \u001b[0mself\u001b[0m\u001b[0;34m.\u001b[0m\u001b[0m_fit_java\u001b[0m\u001b[0;34m(\u001b[0m\u001b[0mdataset\u001b[0m\u001b[0;34m)\u001b[0m\u001b[0;34m\u001b[0m\u001b[0;34m\u001b[0m\u001b[0m\n\u001b[0m\u001b[1;32m    296\u001b[0m         \u001b[0mmodel\u001b[0m \u001b[0;34m=\u001b[0m \u001b[0mself\u001b[0m\u001b[0;34m.\u001b[0m\u001b[0m_create_model\u001b[0m\u001b[0;34m(\u001b[0m\u001b[0mjava_model\u001b[0m\u001b[0;34m)\u001b[0m\u001b[0;34m\u001b[0m\u001b[0;34m\u001b[0m\u001b[0m\n\u001b[1;32m    297\u001b[0m         \u001b[0;32mreturn\u001b[0m \u001b[0mself\u001b[0m\u001b[0;34m.\u001b[0m\u001b[0m_copyValues\u001b[0m\u001b[0;34m(\u001b[0m\u001b[0mmodel\u001b[0m\u001b[0;34m)\u001b[0m\u001b[0;34m\u001b[0m\u001b[0;34m\u001b[0m\u001b[0m\n",
      "\u001b[0;32m/usr/local/spark/python/pyspark/ml/wrapper.py\u001b[0m in \u001b[0;36m_fit_java\u001b[0;34m(self, dataset)\u001b[0m\n\u001b[1;32m    290\u001b[0m         \"\"\"\n\u001b[1;32m    291\u001b[0m         \u001b[0mself\u001b[0m\u001b[0;34m.\u001b[0m\u001b[0m_transfer_params_to_java\u001b[0m\u001b[0;34m(\u001b[0m\u001b[0;34m)\u001b[0m\u001b[0;34m\u001b[0m\u001b[0;34m\u001b[0m\u001b[0m\n\u001b[0;32m--> 292\u001b[0;31m         \u001b[0;32mreturn\u001b[0m \u001b[0mself\u001b[0m\u001b[0;34m.\u001b[0m\u001b[0m_java_obj\u001b[0m\u001b[0;34m.\u001b[0m\u001b[0mfit\u001b[0m\u001b[0;34m(\u001b[0m\u001b[0mdataset\u001b[0m\u001b[0;34m.\u001b[0m\u001b[0m_jdf\u001b[0m\u001b[0;34m)\u001b[0m\u001b[0;34m\u001b[0m\u001b[0;34m\u001b[0m\u001b[0m\n\u001b[0m\u001b[1;32m    293\u001b[0m \u001b[0;34m\u001b[0m\u001b[0m\n\u001b[1;32m    294\u001b[0m     \u001b[0;32mdef\u001b[0m \u001b[0m_fit\u001b[0m\u001b[0;34m(\u001b[0m\u001b[0mself\u001b[0m\u001b[0;34m,\u001b[0m \u001b[0mdataset\u001b[0m\u001b[0;34m)\u001b[0m\u001b[0;34m:\u001b[0m\u001b[0;34m\u001b[0m\u001b[0;34m\u001b[0m\u001b[0m\n",
      "\u001b[0;32m/usr/local/spark/python/lib/py4j-0.10.7-src.zip/py4j/java_gateway.py\u001b[0m in \u001b[0;36m__call__\u001b[0;34m(self, *args)\u001b[0m\n\u001b[1;32m   1253\u001b[0m             \u001b[0mproto\u001b[0m\u001b[0;34m.\u001b[0m\u001b[0mEND_COMMAND_PART\u001b[0m\u001b[0;34m\u001b[0m\u001b[0;34m\u001b[0m\u001b[0m\n\u001b[1;32m   1254\u001b[0m \u001b[0;34m\u001b[0m\u001b[0m\n\u001b[0;32m-> 1255\u001b[0;31m         \u001b[0manswer\u001b[0m \u001b[0;34m=\u001b[0m \u001b[0mself\u001b[0m\u001b[0;34m.\u001b[0m\u001b[0mgateway_client\u001b[0m\u001b[0;34m.\u001b[0m\u001b[0msend_command\u001b[0m\u001b[0;34m(\u001b[0m\u001b[0mcommand\u001b[0m\u001b[0;34m)\u001b[0m\u001b[0;34m\u001b[0m\u001b[0;34m\u001b[0m\u001b[0m\n\u001b[0m\u001b[1;32m   1256\u001b[0m         return_value = get_return_value(\n\u001b[1;32m   1257\u001b[0m             answer, self.gateway_client, self.target_id, self.name)\n",
      "\u001b[0;32m/usr/local/spark/python/lib/py4j-0.10.7-src.zip/py4j/java_gateway.py\u001b[0m in \u001b[0;36msend_command\u001b[0;34m(self, command, retry, binary)\u001b[0m\n\u001b[1;32m    983\u001b[0m         \u001b[0mconnection\u001b[0m \u001b[0;34m=\u001b[0m \u001b[0mself\u001b[0m\u001b[0;34m.\u001b[0m\u001b[0m_get_connection\u001b[0m\u001b[0;34m(\u001b[0m\u001b[0;34m)\u001b[0m\u001b[0;34m\u001b[0m\u001b[0;34m\u001b[0m\u001b[0m\n\u001b[1;32m    984\u001b[0m         \u001b[0;32mtry\u001b[0m\u001b[0;34m:\u001b[0m\u001b[0;34m\u001b[0m\u001b[0;34m\u001b[0m\u001b[0m\n\u001b[0;32m--> 985\u001b[0;31m             \u001b[0mresponse\u001b[0m \u001b[0;34m=\u001b[0m \u001b[0mconnection\u001b[0m\u001b[0;34m.\u001b[0m\u001b[0msend_command\u001b[0m\u001b[0;34m(\u001b[0m\u001b[0mcommand\u001b[0m\u001b[0;34m)\u001b[0m\u001b[0;34m\u001b[0m\u001b[0;34m\u001b[0m\u001b[0m\n\u001b[0m\u001b[1;32m    986\u001b[0m             \u001b[0;32mif\u001b[0m \u001b[0mbinary\u001b[0m\u001b[0;34m:\u001b[0m\u001b[0;34m\u001b[0m\u001b[0;34m\u001b[0m\u001b[0m\n\u001b[1;32m    987\u001b[0m                 \u001b[0;32mreturn\u001b[0m \u001b[0mresponse\u001b[0m\u001b[0;34m,\u001b[0m \u001b[0mself\u001b[0m\u001b[0;34m.\u001b[0m\u001b[0m_create_connection_guard\u001b[0m\u001b[0;34m(\u001b[0m\u001b[0mconnection\u001b[0m\u001b[0;34m)\u001b[0m\u001b[0;34m\u001b[0m\u001b[0;34m\u001b[0m\u001b[0m\n",
      "\u001b[0;32m/usr/local/spark/python/lib/py4j-0.10.7-src.zip/py4j/java_gateway.py\u001b[0m in \u001b[0;36msend_command\u001b[0;34m(self, command)\u001b[0m\n\u001b[1;32m   1150\u001b[0m \u001b[0;34m\u001b[0m\u001b[0m\n\u001b[1;32m   1151\u001b[0m         \u001b[0;32mtry\u001b[0m\u001b[0;34m:\u001b[0m\u001b[0;34m\u001b[0m\u001b[0;34m\u001b[0m\u001b[0m\n\u001b[0;32m-> 1152\u001b[0;31m             \u001b[0manswer\u001b[0m \u001b[0;34m=\u001b[0m \u001b[0msmart_decode\u001b[0m\u001b[0;34m(\u001b[0m\u001b[0mself\u001b[0m\u001b[0;34m.\u001b[0m\u001b[0mstream\u001b[0m\u001b[0;34m.\u001b[0m\u001b[0mreadline\u001b[0m\u001b[0;34m(\u001b[0m\u001b[0;34m)\u001b[0m\u001b[0;34m[\u001b[0m\u001b[0;34m:\u001b[0m\u001b[0;34m-\u001b[0m\u001b[0;36m1\u001b[0m\u001b[0;34m]\u001b[0m\u001b[0;34m)\u001b[0m\u001b[0;34m\u001b[0m\u001b[0;34m\u001b[0m\u001b[0m\n\u001b[0m\u001b[1;32m   1153\u001b[0m             \u001b[0mlogger\u001b[0m\u001b[0;34m.\u001b[0m\u001b[0mdebug\u001b[0m\u001b[0;34m(\u001b[0m\u001b[0;34m\"Answer received: {0}\"\u001b[0m\u001b[0;34m.\u001b[0m\u001b[0mformat\u001b[0m\u001b[0;34m(\u001b[0m\u001b[0manswer\u001b[0m\u001b[0;34m)\u001b[0m\u001b[0;34m)\u001b[0m\u001b[0;34m\u001b[0m\u001b[0;34m\u001b[0m\u001b[0m\n\u001b[1;32m   1154\u001b[0m             \u001b[0;32mif\u001b[0m \u001b[0manswer\u001b[0m\u001b[0;34m.\u001b[0m\u001b[0mstartswith\u001b[0m\u001b[0;34m(\u001b[0m\u001b[0mproto\u001b[0m\u001b[0;34m.\u001b[0m\u001b[0mRETURN_MESSAGE\u001b[0m\u001b[0;34m)\u001b[0m\u001b[0;34m:\u001b[0m\u001b[0;34m\u001b[0m\u001b[0;34m\u001b[0m\u001b[0m\n",
      "\u001b[0;32m/opt/conda/lib/python3.6/socket.py\u001b[0m in \u001b[0;36mreadinto\u001b[0;34m(self, b)\u001b[0m\n\u001b[1;32m    584\u001b[0m         \u001b[0;32mwhile\u001b[0m \u001b[0;32mTrue\u001b[0m\u001b[0;34m:\u001b[0m\u001b[0;34m\u001b[0m\u001b[0;34m\u001b[0m\u001b[0m\n\u001b[1;32m    585\u001b[0m             \u001b[0;32mtry\u001b[0m\u001b[0;34m:\u001b[0m\u001b[0;34m\u001b[0m\u001b[0;34m\u001b[0m\u001b[0m\n\u001b[0;32m--> 586\u001b[0;31m                 \u001b[0;32mreturn\u001b[0m \u001b[0mself\u001b[0m\u001b[0;34m.\u001b[0m\u001b[0m_sock\u001b[0m\u001b[0;34m.\u001b[0m\u001b[0mrecv_into\u001b[0m\u001b[0;34m(\u001b[0m\u001b[0mb\u001b[0m\u001b[0;34m)\u001b[0m\u001b[0;34m\u001b[0m\u001b[0;34m\u001b[0m\u001b[0m\n\u001b[0m\u001b[1;32m    587\u001b[0m             \u001b[0;32mexcept\u001b[0m \u001b[0mtimeout\u001b[0m\u001b[0;34m:\u001b[0m\u001b[0;34m\u001b[0m\u001b[0;34m\u001b[0m\u001b[0m\n\u001b[1;32m    588\u001b[0m                 \u001b[0mself\u001b[0m\u001b[0;34m.\u001b[0m\u001b[0m_timeout_occurred\u001b[0m \u001b[0;34m=\u001b[0m \u001b[0;32mTrue\u001b[0m\u001b[0;34m\u001b[0m\u001b[0;34m\u001b[0m\u001b[0m\n",
      "\u001b[0;31mKeyboardInterrupt\u001b[0m: "
     ]
    }
   ],
   "source": [
    "model = pipeline.fit(train)"
   ]
  },
  {
   "cell_type": "code",
   "execution_count": 44,
   "metadata": {
    "ExecuteTime": {
     "end_time": "2023-05-06T23:14:07.537116Z",
     "start_time": "2023-05-06T23:14:06.533927Z"
    }
   },
   "outputs": [],
   "source": [
    "train_output_df = model.transform(train)\n",
    "validation_output_df = model.transform(validation)\n",
    "test_output_df = model.transform(test)"
   ]
  },
  {
   "cell_type": "code",
   "execution_count": 45,
   "metadata": {
    "ExecuteTime": {
     "end_time": "2023-05-06T23:15:09.504490Z",
     "start_time": "2023-05-06T23:14:07.762520Z"
    }
   },
   "outputs": [
    {
     "name": "stdout",
     "output_type": "stream",
     "text": [
      "Train weightedPrecision = 0.7241621096293491\n",
      "Validation weightedPrecision = 0.7246831043134082\n",
      "Test weightedPrecision = 0.7245346142138729\n",
      "Train weightedRecall = 0.8509282815952297\n",
      "Validation weightedRecall = 0.8513329448005994\n",
      "Test weightedRecall = 0.8514408125675693\n",
      "Train accuracy = 0.8509282815952297\n",
      "Validation accuracy = 0.8513329448005994\n",
      "Test accuracy = 0.8514408125675693\n"
     ]
    }
   ],
   "source": [
    "train_predictionAndLabels = train_output_df.select(\"prediction\", \"label\")\n",
    "validation_predictionAndLabels = validation_output_df.select(\"prediction\",\"label\")\n",
    "test_predictionAndLabels = test_output_df.select(\"prediction\", \"label\")\n",
    "metrics = ['weightedPrecision', 'weightedRecall', 'accuracy']\n",
    "for metric in metrics:\n",
    "    evaluator = MulticlassClassificationEvaluator(metricName=metric)\n",
    "    print('Train ' + metric + ' = ' +\n",
    "    str(evaluator.evaluate(train_predictionAndLabels)))\n",
    "    print('Validation ' + metric + ' = ' +\n",
    "    str(evaluator.evaluate(validation_predictionAndLabels)))\n",
    "    print('Test ' + metric + ' = ' +\n",
    "    str(evaluator.evaluate(test_predictionAndLabels)))"
   ]
  },
  {
   "cell_type": "code",
   "execution_count": 20,
   "metadata": {
    "ExecuteTime": {
     "end_time": "2023-05-06T22:29:52.144715Z",
     "start_time": "2023-05-06T22:29:50.596191Z"
    }
   },
   "outputs": [],
   "source": [
    "import matplotlib.pyplot as plt\n",
    "import numpy as np\n",
    "import itertools\n",
    "def plot_confusion_matrix(cm, classes, normalize=False, title='Confusion matrix', cmap=plt.cm.Blues):\n",
    "    \"\"\"\n",
    "    This function prints and plots the confusion matrix.\n",
    "    Normalization can be applied by setting `normalize=True`.\n",
    "    \"\"\"\n",
    "    if normalize:\n",
    "        cm = cm.astype('float') / cm.sum(axis=1)[:, np.newaxis]\n",
    "        print(\"Normalized confusion matrix\")\n",
    "    else:\n",
    "        print('Confusion matrix, without normalization')\n",
    "        print(cm)\n",
    "    plt.imshow(cm, interpolation='nearest', cmap=cmap)\n",
    "    plt.title(title)\n",
    "    plt.colorbar()\n",
    "    tick_marks = np.arange(len(classes))\n",
    "    plt.xticks(tick_marks, classes, rotation=45)\n",
    "    plt.yticks(tick_marks, classes)\n",
    "    fmt = '.2f' if normalize else 'd'\n",
    "    thresh = cm.max() / 2.\n",
    "    for i, j in itertools.product(range(cm.shape[0]), range(cm.shape[1])):\n",
    "        plt.text(j, i, format(cm[i, j], fmt),\n",
    "        horizontalalignment=\"center\",\n",
    "        color=\"white\" if cm[i, j] > thresh else \"black\")\n",
    "    plt.tight_layout()\n",
    "    plt.ylabel('True label')\n",
    "    plt.xlabel('Predicted label')"
   ]
  },
  {
   "cell_type": "code",
   "execution_count": 46,
   "metadata": {
    "ExecuteTime": {
     "end_time": "2023-05-06T23:35:29.364476Z",
     "start_time": "2023-05-06T23:35:29.357076Z"
    }
   },
   "outputs": [
    {
     "name": "stdout",
     "output_type": "stream",
     "text": [
      "['Time', 'Light_Conditions', 'Weather_Conditions', 'Road_Surface_Conditions'] ['Number_of_Vehicles', 'Number_of_Casualties', 'Day_of_Week', 'Speed_limit', 'Urban_or_Rural_Area', 'Year']\n"
     ]
    }
   ],
   "source": [
    "print(categorical_columns, numeric_columns)"
   ]
  },
  {
   "cell_type": "code",
   "execution_count": 21,
   "metadata": {
    "ExecuteTime": {
     "end_time": "2023-05-06T22:29:57.519050Z",
     "start_time": "2023-05-06T22:29:52.147593Z"
    }
   },
   "outputs": [
    {
     "name": "stdout",
     "output_type": "stream",
     "text": [
      "   label   count\n",
      "0      2  127743\n",
      "1      1   20394\n",
      "2      0    1893\n"
     ]
    }
   ],
   "source": [
    "#Get Class labels\n",
    "class_temp = test_predictionAndLabels.select(\"label\").groupBy(\"label\").count().sort('count', ascending=False).toPandas()\n",
    "print(class_temp)"
   ]
  },
  {
   "cell_type": "code",
   "execution_count": 22,
   "metadata": {
    "ExecuteTime": {
     "end_time": "2023-05-06T22:30:10.929592Z",
     "start_time": "2023-05-06T22:30:01.389520Z"
    }
   },
   "outputs": [
    {
     "data": {
      "text/plain": [
       "array([[127743,      0,      0],\n",
       "       [ 20394,      0,      0],\n",
       "       [  1893,      0,      0]])"
      ]
     },
     "execution_count": 22,
     "metadata": {},
     "output_type": "execute_result"
    }
   ],
   "source": [
    "#Calculate confusion matrix\n",
    "from sklearn.metrics import confusion_matrix\n",
    "y_true = test_predictionAndLabels.select(\"label\")\n",
    "y_true = y_true.toPandas()\n",
    "y_pred = test_predictionAndLabels.select(\"prediction\")\n",
    "y_pred = y_pred.toPandas()\n",
    "cnf_matrix = confusion_matrix(y_true, y_pred,labels=class_temp['label'])\n",
    "cnf_matrix\n"
   ]
  },
  {
   "cell_type": "code",
   "execution_count": 23,
   "metadata": {
    "ExecuteTime": {
     "end_time": "2023-05-06T22:30:11.838429Z",
     "start_time": "2023-05-06T22:30:10.932145Z"
    }
   },
   "outputs": [
    {
     "name": "stdout",
     "output_type": "stream",
     "text": [
      "Confusion matrix, without normalization\n",
      "[[127743      0      0]\n",
      " [ 20394      0      0]\n",
      " [  1893      0      0]]\n"
     ]
    },
    {
     "data": {
      "image/png": "[encoded data removed]",
      "text/plain": [
       "<Figure size 432x288 with 2 Axes>"
      ]
     },
     "metadata": {
      "needs_background": "light"
     },
     "output_type": "display_data"
    }
   ],
   "source": [
    "#Plotting Results\n",
    "plt.figure()\n",
    "plot_confusion_matrix(cnf_matrix, classes=class_temp['label'].values, title='Confusion matrix, without normalization')\n",
    "plt.show()"
   ]
  },
  {
   "cell_type": "code",
   "execution_count": null,
   "metadata": {},
   "outputs": [],
   "source": []
  }
 ],
 "metadata": {
  "kernelspec": {
   "display_name": "Python 3",
   "language": "python",
   "name": "python3"
  },
  "language_info": {
   "codemirror_mode": {
    "name": "ipython",
    "version": 3
   },
   "file_extension": ".py",
   "mimetype": "text/x-python",
   "name": "python",
   "nbconvert_exporter": "python",
   "pygments_lexer": "ipython3",
   "version": "3.6.7"
  },
  "toc": {
   "base_numbering": 1,
   "nav_menu": {},
   "number_sections": true,
   "sideBar": true,
   "skip_h1_title": false,
   "title_cell": "Table of Contents",
   "title_sidebar": "Contents",
   "toc_cell": false,
   "toc_position": {},
   "toc_section_display": true,
   "toc_window_display": false
  }
 },
 "nbformat": 4,
 "nbformat_minor": 5
}
