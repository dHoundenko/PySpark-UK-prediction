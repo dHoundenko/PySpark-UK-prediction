{
 "cells": [
  {
   "cell_type": "code",
   "execution_count": 1,
   "metadata": {
    "ExecuteTime": {
     "end_time": "2023-05-07T22:32:06.003802Z",
     "start_time": "2023-05-07T22:32:04.624836Z"
    }
   },
   "outputs": [],
   "source": [
    "# Imports\n",
    "import os\n",
    "import numpy as np\n",
    "import pandas as pd\n",
    "from pyspark.sql.types import *\n",
    "from pyspark.ml import Pipeline\n",
    "from pyspark.sql import functions as f\n",
    "from pyspark.sql.functions import udf, StringType, col, when, max, rand, hour, minute, expr, min\n",
    "from pyspark.sql import SparkSession\n",
    "from pyspark.ml.evaluation import MulticlassClassificationEvaluator\n",
    "from pyspark.ml.classification import MultilayerPerceptronClassifier\n",
    "from pyspark.ml.feature import OneHotEncoder, VectorAssembler, StringIndexer\n",
    "from functools import reduce"
   ]
  },
  {
   "cell_type": "code",
   "execution_count": 2,
   "metadata": {
    "ExecuteTime": {
     "end_time": "2023-05-07T22:32:17.955023Z",
     "start_time": "2023-05-07T22:32:06.225017Z"
    }
   },
   "outputs": [],
   "source": [
    "spark = SparkSession.builder.appName('123').getOrCreate()"
   ]
  },
  {
   "cell_type": "code",
   "execution_count": 5,
   "metadata": {
    "ExecuteTime": {
     "end_time": "2023-05-07T22:31:54.946648Z",
     "start_time": "2023-05-07T22:29:13.319362Z"
    }
   },
   "outputs": [
    {
     "ename": "KeyboardInterrupt",
     "evalue": "",
     "output_type": "error",
     "traceback": [
      "\u001b[0;31m---------------------------------------------------------------------------\u001b[0m",
      "\u001b[0;31mKeyboardInterrupt\u001b[0m                         Traceback (most recent call last)",
      "\u001b[0;32m<ipython-input-5-42eb056fcd8c>\u001b[0m in \u001b[0;36m<module>\u001b[0;34m\u001b[0m\n\u001b[1;32m      1\u001b[0m \u001b[0;31m#Reading the file now\u001b[0m\u001b[0;34m\u001b[0m\u001b[0;34m\u001b[0m\u001b[0;34m\u001b[0m\u001b[0m\n\u001b[1;32m      2\u001b[0m data_o = spark.read.csv('/mnt/bdpa23-group14-pvc/dl_data.csv', header=True,\n\u001b[0;32m----> 3\u001b[0;31m inferSchema=True)\n\u001b[0m",
      "\u001b[0;32m/usr/local/spark/python/pyspark/sql/readwriter.py\u001b[0m in \u001b[0;36mcsv\u001b[0;34m(self, path, schema, sep, encoding, quote, escape, comment, header, inferSchema, ignoreLeadingWhiteSpace, ignoreTrailingWhiteSpace, nullValue, nanValue, positiveInf, negativeInf, dateFormat, timestampFormat, maxColumns, maxCharsPerColumn, maxMalformedLogPerPartition, mode, columnNameOfCorruptRecord, multiLine, charToEscapeQuoteEscaping, samplingRatio, enforceSchema, emptyValue)\u001b[0m\n\u001b[1;32m    470\u001b[0m             \u001b[0mpath\u001b[0m \u001b[0;34m=\u001b[0m \u001b[0;34m[\u001b[0m\u001b[0mpath\u001b[0m\u001b[0;34m]\u001b[0m\u001b[0;34m\u001b[0m\u001b[0;34m\u001b[0m\u001b[0m\n\u001b[1;32m    471\u001b[0m         \u001b[0;32mif\u001b[0m \u001b[0mtype\u001b[0m\u001b[0;34m(\u001b[0m\u001b[0mpath\u001b[0m\u001b[0;34m)\u001b[0m \u001b[0;34m==\u001b[0m \u001b[0mlist\u001b[0m\u001b[0;34m:\u001b[0m\u001b[0;34m\u001b[0m\u001b[0;34m\u001b[0m\u001b[0m\n\u001b[0;32m--> 472\u001b[0;31m             \u001b[0;32mreturn\u001b[0m \u001b[0mself\u001b[0m\u001b[0;34m.\u001b[0m\u001b[0m_df\u001b[0m\u001b[0;34m(\u001b[0m\u001b[0mself\u001b[0m\u001b[0;34m.\u001b[0m\u001b[0m_jreader\u001b[0m\u001b[0;34m.\u001b[0m\u001b[0mcsv\u001b[0m\u001b[0;34m(\u001b[0m\u001b[0mself\u001b[0m\u001b[0;34m.\u001b[0m\u001b[0m_spark\u001b[0m\u001b[0;34m.\u001b[0m\u001b[0m_sc\u001b[0m\u001b[0;34m.\u001b[0m\u001b[0m_jvm\u001b[0m\u001b[0;34m.\u001b[0m\u001b[0mPythonUtils\u001b[0m\u001b[0;34m.\u001b[0m\u001b[0mtoSeq\u001b[0m\u001b[0;34m(\u001b[0m\u001b[0mpath\u001b[0m\u001b[0;34m)\u001b[0m\u001b[0;34m)\u001b[0m\u001b[0;34m)\u001b[0m\u001b[0;34m\u001b[0m\u001b[0;34m\u001b[0m\u001b[0m\n\u001b[0m\u001b[1;32m    473\u001b[0m         \u001b[0;32melif\u001b[0m \u001b[0misinstance\u001b[0m\u001b[0;34m(\u001b[0m\u001b[0mpath\u001b[0m\u001b[0;34m,\u001b[0m \u001b[0mRDD\u001b[0m\u001b[0;34m)\u001b[0m\u001b[0;34m:\u001b[0m\u001b[0;34m\u001b[0m\u001b[0;34m\u001b[0m\u001b[0m\n\u001b[1;32m    474\u001b[0m             \u001b[0;32mdef\u001b[0m \u001b[0mfunc\u001b[0m\u001b[0;34m(\u001b[0m\u001b[0miterator\u001b[0m\u001b[0;34m)\u001b[0m\u001b[0;34m:\u001b[0m\u001b[0;34m\u001b[0m\u001b[0;34m\u001b[0m\u001b[0m\n",
      "\u001b[0;32m/usr/local/spark/python/lib/py4j-0.10.7-src.zip/py4j/java_gateway.py\u001b[0m in \u001b[0;36m__call__\u001b[0;34m(self, *args)\u001b[0m\n\u001b[1;32m   1253\u001b[0m             \u001b[0mproto\u001b[0m\u001b[0;34m.\u001b[0m\u001b[0mEND_COMMAND_PART\u001b[0m\u001b[0;34m\u001b[0m\u001b[0;34m\u001b[0m\u001b[0m\n\u001b[1;32m   1254\u001b[0m \u001b[0;34m\u001b[0m\u001b[0m\n\u001b[0;32m-> 1255\u001b[0;31m         \u001b[0manswer\u001b[0m \u001b[0;34m=\u001b[0m \u001b[0mself\u001b[0m\u001b[0;34m.\u001b[0m\u001b[0mgateway_client\u001b[0m\u001b[0;34m.\u001b[0m\u001b[0msend_command\u001b[0m\u001b[0;34m(\u001b[0m\u001b[0mcommand\u001b[0m\u001b[0;34m)\u001b[0m\u001b[0;34m\u001b[0m\u001b[0;34m\u001b[0m\u001b[0m\n\u001b[0m\u001b[1;32m   1256\u001b[0m         return_value = get_return_value(\n\u001b[1;32m   1257\u001b[0m             answer, self.gateway_client, self.target_id, self.name)\n",
      "\u001b[0;32m/usr/local/spark/python/lib/py4j-0.10.7-src.zip/py4j/java_gateway.py\u001b[0m in \u001b[0;36msend_command\u001b[0;34m(self, command, retry, binary)\u001b[0m\n\u001b[1;32m    983\u001b[0m         \u001b[0mconnection\u001b[0m \u001b[0;34m=\u001b[0m \u001b[0mself\u001b[0m\u001b[0;34m.\u001b[0m\u001b[0m_get_connection\u001b[0m\u001b[0;34m(\u001b[0m\u001b[0;34m)\u001b[0m\u001b[0;34m\u001b[0m\u001b[0;34m\u001b[0m\u001b[0m\n\u001b[1;32m    984\u001b[0m         \u001b[0;32mtry\u001b[0m\u001b[0;34m:\u001b[0m\u001b[0;34m\u001b[0m\u001b[0;34m\u001b[0m\u001b[0m\n\u001b[0;32m--> 985\u001b[0;31m             \u001b[0mresponse\u001b[0m \u001b[0;34m=\u001b[0m \u001b[0mconnection\u001b[0m\u001b[0;34m.\u001b[0m\u001b[0msend_command\u001b[0m\u001b[0;34m(\u001b[0m\u001b[0mcommand\u001b[0m\u001b[0;34m)\u001b[0m\u001b[0;34m\u001b[0m\u001b[0;34m\u001b[0m\u001b[0m\n\u001b[0m\u001b[1;32m    986\u001b[0m             \u001b[0;32mif\u001b[0m \u001b[0mbinary\u001b[0m\u001b[0;34m:\u001b[0m\u001b[0;34m\u001b[0m\u001b[0;34m\u001b[0m\u001b[0m\n\u001b[1;32m    987\u001b[0m                 \u001b[0;32mreturn\u001b[0m \u001b[0mresponse\u001b[0m\u001b[0;34m,\u001b[0m \u001b[0mself\u001b[0m\u001b[0;34m.\u001b[0m\u001b[0m_create_connection_guard\u001b[0m\u001b[0;34m(\u001b[0m\u001b[0mconnection\u001b[0m\u001b[0;34m)\u001b[0m\u001b[0;34m\u001b[0m\u001b[0;34m\u001b[0m\u001b[0m\n",
      "\u001b[0;32m/usr/local/spark/python/lib/py4j-0.10.7-src.zip/py4j/java_gateway.py\u001b[0m in \u001b[0;36msend_command\u001b[0;34m(self, command)\u001b[0m\n\u001b[1;32m   1150\u001b[0m \u001b[0;34m\u001b[0m\u001b[0m\n\u001b[1;32m   1151\u001b[0m         \u001b[0;32mtry\u001b[0m\u001b[0;34m:\u001b[0m\u001b[0;34m\u001b[0m\u001b[0;34m\u001b[0m\u001b[0m\n\u001b[0;32m-> 1152\u001b[0;31m             \u001b[0manswer\u001b[0m \u001b[0;34m=\u001b[0m \u001b[0msmart_decode\u001b[0m\u001b[0;34m(\u001b[0m\u001b[0mself\u001b[0m\u001b[0;34m.\u001b[0m\u001b[0mstream\u001b[0m\u001b[0;34m.\u001b[0m\u001b[0mreadline\u001b[0m\u001b[0;34m(\u001b[0m\u001b[0;34m)\u001b[0m\u001b[0;34m[\u001b[0m\u001b[0;34m:\u001b[0m\u001b[0;34m-\u001b[0m\u001b[0;36m1\u001b[0m\u001b[0;34m]\u001b[0m\u001b[0;34m)\u001b[0m\u001b[0;34m\u001b[0m\u001b[0;34m\u001b[0m\u001b[0m\n\u001b[0m\u001b[1;32m   1153\u001b[0m             \u001b[0mlogger\u001b[0m\u001b[0;34m.\u001b[0m\u001b[0mdebug\u001b[0m\u001b[0;34m(\u001b[0m\u001b[0;34m\"Answer received: {0}\"\u001b[0m\u001b[0;34m.\u001b[0m\u001b[0mformat\u001b[0m\u001b[0;34m(\u001b[0m\u001b[0manswer\u001b[0m\u001b[0;34m)\u001b[0m\u001b[0;34m)\u001b[0m\u001b[0;34m\u001b[0m\u001b[0;34m\u001b[0m\u001b[0m\n\u001b[1;32m   1154\u001b[0m             \u001b[0;32mif\u001b[0m \u001b[0manswer\u001b[0m\u001b[0;34m.\u001b[0m\u001b[0mstartswith\u001b[0m\u001b[0;34m(\u001b[0m\u001b[0mproto\u001b[0m\u001b[0;34m.\u001b[0m\u001b[0mRETURN_MESSAGE\u001b[0m\u001b[0;34m)\u001b[0m\u001b[0;34m:\u001b[0m\u001b[0;34m\u001b[0m\u001b[0;34m\u001b[0m\u001b[0m\n",
      "\u001b[0;32m/opt/conda/lib/python3.6/socket.py\u001b[0m in \u001b[0;36mreadinto\u001b[0;34m(self, b)\u001b[0m\n\u001b[1;32m    584\u001b[0m         \u001b[0;32mwhile\u001b[0m \u001b[0;32mTrue\u001b[0m\u001b[0;34m:\u001b[0m\u001b[0;34m\u001b[0m\u001b[0;34m\u001b[0m\u001b[0m\n\u001b[1;32m    585\u001b[0m             \u001b[0;32mtry\u001b[0m\u001b[0;34m:\u001b[0m\u001b[0;34m\u001b[0m\u001b[0;34m\u001b[0m\u001b[0m\n\u001b[0;32m--> 586\u001b[0;31m                 \u001b[0;32mreturn\u001b[0m \u001b[0mself\u001b[0m\u001b[0;34m.\u001b[0m\u001b[0m_sock\u001b[0m\u001b[0;34m.\u001b[0m\u001b[0mrecv_into\u001b[0m\u001b[0;34m(\u001b[0m\u001b[0mb\u001b[0m\u001b[0;34m)\u001b[0m\u001b[0;34m\u001b[0m\u001b[0;34m\u001b[0m\u001b[0m\n\u001b[0m\u001b[1;32m    587\u001b[0m             \u001b[0;32mexcept\u001b[0m \u001b[0mtimeout\u001b[0m\u001b[0;34m:\u001b[0m\u001b[0;34m\u001b[0m\u001b[0;34m\u001b[0m\u001b[0m\n\u001b[1;32m    588\u001b[0m                 \u001b[0mself\u001b[0m\u001b[0;34m.\u001b[0m\u001b[0m_timeout_occurred\u001b[0m \u001b[0;34m=\u001b[0m \u001b[0;32mTrue\u001b[0m\u001b[0;34m\u001b[0m\u001b[0;34m\u001b[0m\u001b[0m\n",
      "\u001b[0;31mKeyboardInterrupt\u001b[0m: "
     ]
    }
   ],
   "source": [
    "#Reading the file now\n",
    "data_o = spark.read.csv('/mnt/bdpa23-group14-pvc/dl_data.csv', header=True,\n",
    "inferSchema=True)"
   ]
  },
  {
   "cell_type": "code",
   "execution_count": 4,
   "metadata": {
    "ExecuteTime": {
     "end_time": "2023-05-07T22:29:10.033040Z",
     "start_time": "2023-05-07T22:29:10.016974Z"
    }
   },
   "outputs": [
    {
     "ename": "NameError",
     "evalue": "name 'data_o' is not defined",
     "output_type": "error",
     "traceback": [
      "\u001b[0;31m---------------------------------------------------------------------------\u001b[0m",
      "\u001b[0;31mNameError\u001b[0m                                 Traceback (most recent call last)",
      "\u001b[0;32m<ipython-input-4-0a154cfd56e2>\u001b[0m in \u001b[0;36m<module>\u001b[0;34m\u001b[0m\n\u001b[0;32m----> 1\u001b[0;31m \u001b[0mdata\u001b[0m \u001b[0;34m=\u001b[0m \u001b[0mdata_o\u001b[0m\u001b[0;34m\u001b[0m\u001b[0;34m\u001b[0m\u001b[0m\n\u001b[0m",
      "\u001b[0;31mNameError\u001b[0m: name 'data_o' is not defined"
     ]
    }
   ],
   "source": [
    "data = data_o"
   ]
  },
  {
   "cell_type": "code",
   "execution_count": 4,
   "metadata": {
    "ExecuteTime": {
     "end_time": "2023-05-07T18:20:06.666555Z",
     "start_time": "2023-05-07T18:20:06.567076Z"
    }
   },
   "outputs": [
    {
     "data": {
      "text/plain": [
       "[('Visit_Number_Bucket', 'string'),\n",
       " ('Page_Views_Normalized', 'double'),\n",
       " ('Orders_Normalized', 'int'),\n",
       " ('Internal_Search_Successful_Normalized', 'double'),\n",
       " ('Internal_Search_Null_Normalized', 'double'),\n",
       " ('Email_Signup_Normalized', 'double'),\n",
       " ('Total_Seconds_Spent_Normalized', 'double'),\n",
       " ('Store_Locator_Search_Normalized', 'double'),\n",
       " ('Mapped_Last_Touch_Channel', 'string'),\n",
       " ('Mapped_Mobile_Device_Type', 'string'),\n",
       " ('Mapped_Browser_Type', 'string'),\n",
       " ('Mapped_Entry_Pages', 'string'),\n",
       " ('Mapped_Site_Section', 'string'),\n",
       " ('Mapped_Promo_Code', 'string'),\n",
       " ('Maped_Product_Name', 'string'),\n",
       " ('Mapped_Search_Term', 'string'),\n",
       " ('Mapped_Product_Collection', 'string')]"
      ]
     },
     "execution_count": 4,
     "metadata": {},
     "output_type": "execute_result"
    }
   ],
   "source": [
    "data.dtypes"
   ]
  },
  {
   "cell_type": "code",
   "execution_count": 5,
   "metadata": {
    "ExecuteTime": {
     "end_time": "2023-05-07T18:20:13.817380Z",
     "start_time": "2023-05-07T18:20:08.780095Z"
    }
   },
   "outputs": [
    {
     "name": "stdout",
     "output_type": "stream",
     "text": [
      "[1, 0]\n"
     ]
    }
   ],
   "source": [
    "unique_strings = [row[0] for row in data.select(\"Orders_Normalized\").distinct().collect()]\n",
    "print(unique_strings)"
   ]
  },
  {
   "cell_type": "code",
   "execution_count": 7,
   "metadata": {
    "ExecuteTime": {
     "end_time": "2023-05-07T18:21:01.630136Z",
     "start_time": "2023-05-07T18:20:59.831037Z"
    }
   },
   "outputs": [
    {
     "name": "stdout",
     "output_type": "stream",
     "text": [
      "38030\n",
      "35457\n"
     ]
    }
   ],
   "source": [
    "print(data.filter(col(\"Orders_Normalized\") == 0).count())\n",
    "print(data.filter(col(\"Orders_Normalized\") == 1).count())"
   ]
  },
  {
   "cell_type": "code",
   "execution_count": 11,
   "metadata": {
    "ExecuteTime": {
     "end_time": "2023-05-07T18:24:58.919611Z",
     "start_time": "2023-05-07T18:24:33.394859Z"
    }
   },
   "outputs": [
    {
     "name": "stdout",
     "output_type": "stream",
     "text": [
      "[('Visit_Number_Bucket', 'string'), ('Page_Views_Normalized', 'double'), ('Orders_Normalized', 'int'), ('Internal_Search_Successful_Normalized', 'double'), ('Internal_Search_Null_Normalized', 'double'), ('Email_Signup_Normalized', 'double'), ('Total_Seconds_Spent_Normalized', 'double'), ('Store_Locator_Search_Normalized', 'double'), ('Mapped_Last_Touch_Channel', 'string'), ('Mapped_Mobile_Device_Type', 'string'), ('Mapped_Browser_Type', 'string'), ('Mapped_Entry_Pages', 'string'), ('Mapped_Site_Section', 'string'), ('Mapped_Promo_Code', 'string'), ('Maped_Product_Name', 'string'), ('Mapped_Search_Term', 'string'), ('Mapped_Product_Collection', 'string')]\n",
      "Column Visit_Number_Bucket has 8 unique strings!\n",
      "Column Page_Views_Normalized has 27 unique strings!\n",
      "Column Orders_Normalized has 2 unique strings!\n",
      "Column Internal_Search_Successful_Normalized has 9 unique strings!\n",
      "Column Internal_Search_Null_Normalized has 5 unique strings!\n",
      "Column Email_Signup_Normalized has 5 unique strings!\n",
      "Column Total_Seconds_Spent_Normalized has 1631 unique strings!\n",
      "Column Store_Locator_Search_Normalized has 5 unique strings!\n",
      "Column Mapped_Last_Touch_Channel has 12 unique strings!\n",
      "Column Mapped_Mobile_Device_Type has 4 unique strings!\n",
      "Column Mapped_Browser_Type has 9 unique strings!\n",
      "Column Mapped_Entry_Pages has 30 unique strings!\n",
      "Column Mapped_Site_Section has 31 unique strings!\n",
      "Column Mapped_Promo_Code has 28 unique strings!\n",
      "Column Maped_Product_Name has 31 unique strings!\n",
      "Column Mapped_Search_Term has 31 unique strings!\n",
      "Column Mapped_Product_Collection has 31 unique strings!\n"
     ]
    }
   ],
   "source": [
    "col_names = get_col_names(data)\n",
    "print(col_names)\n",
    "for name in col_names:\n",
    "    col_name = name[0]\n",
    "    unique_strings = [row[0] for row in data.select(col_name).distinct().collect()]\n",
    "    max_value = data.select(max(col_name)).collect()[0][0]\n",
    "    min_value = data.select(min(col_name)).collect()[0][0]\n",
    "    print(f\"Column {col_name} has {len(unique_strings)} unique strings! Max = {max_value}, Min = {min_value}\")\n",
    "    "
   ]
  },
  {
   "cell_type": "code",
   "execution_count": 6,
   "metadata": {
    "ExecuteTime": {
     "end_time": "2023-05-07T16:54:21.201257Z",
     "start_time": "2023-05-07T16:54:21.189851Z"
    }
   },
   "outputs": [
    {
     "name": "stdout",
     "output_type": "stream",
     "text": [
      "root\n",
      " |-- Visit_Number_Bucket: string (nullable = true)\n",
      " |-- Page_Views_Normalized: double (nullable = true)\n",
      " |-- Orders_Normalized: integer (nullable = true)\n",
      " |-- Internal_Search_Successful_Normalized: double (nullable = true)\n",
      " |-- Internal_Search_Null_Normalized: double (nullable = true)\n",
      " |-- Email_Signup_Normalized: double (nullable = true)\n",
      " |-- Total_Seconds_Spent_Normalized: double (nullable = true)\n",
      " |-- Store_Locator_Search_Normalized: double (nullable = true)\n",
      " |-- Mapped_Last_Touch_Channel: string (nullable = true)\n",
      " |-- Mapped_Mobile_Device_Type: string (nullable = true)\n",
      " |-- Mapped_Browser_Type: string (nullable = true)\n",
      " |-- Mapped_Entry_Pages: string (nullable = true)\n",
      " |-- Mapped_Site_Section: string (nullable = true)\n",
      " |-- Mapped_Promo_Code: string (nullable = true)\n",
      " |-- Maped_Product_Name: string (nullable = true)\n",
      " |-- Mapped_Search_Term: string (nullable = true)\n",
      " |-- Mapped_Product_Collection: string (nullable = true)\n",
      "\n"
     ]
    }
   ],
   "source": [
    "data.printSchema()"
   ]
  },
  {
   "cell_type": "code",
   "execution_count": 8,
   "metadata": {
    "ExecuteTime": {
     "end_time": "2023-05-07T18:22:18.252415Z",
     "start_time": "2023-05-07T18:22:18.218906Z"
    }
   },
   "outputs": [],
   "source": [
    "#functions\n",
    "def get_string_mapping(col_name, dataframe):\n",
    "    print(\"Getting mapping\")\n",
    "    unique_strings = [row[0] for row in dataframe.select(col_name).distinct().collect()]\n",
    "    mapping = dict(zip(unique_strings, range(len(unique_strings))))\n",
    "    return mapping\n",
    "\n",
    "def get_embedding(col_name, mapping, dataframe):\n",
    "    print(\"Getting embedding\")\n",
    "    when_expr = reduce(lambda a, b: a.when(dataframe[col_name] == b, mapping[b]),\n",
    "                       mapping, when(dataframe[col_name].isNull(), None))\n",
    "    dataframe = dataframe.withColumn(col_name + \"_embedded\", when_expr)\n",
    "    dataframe = dataframe.drop(col_name)\n",
    "    dataframe = dataframe.withColumnRenamed(col_name + \"_embedded\", col_name)\n",
    "    return dataframe\n",
    "\n",
    "def normalize_column(col_name, dataframe):\n",
    "    print(\"Normalizing\")\n",
    "    max_value = dataframe.select(max(col_name)).collect()[0][0]\n",
    "    dataframe = dataframe.withColumn(f\"{col_name}_normalized\", expr(\"{} / {}\".format(col_name, max_value))).drop(col_name)\n",
    "    dataframe = dataframe.withColumnRenamed(col_name + \"_normalized\", col_name)\n",
    "    return dataframe \n",
    "\n",
    "def embed_time(df):\n",
    "    print(\"Embedding time\")\n",
    "    # Convert to seconds since midnight\n",
    "    df = df.withColumn('Time', hour('Time') * 3600 + minute('Time') * 60)\n",
    "    return df\n",
    "\n",
    "def get_col_names(df):\n",
    "    col_names = []\n",
    "    for col in df.dtypes:\n",
    "        col_names.append((col[0], col[1]))\n",
    "    return col_names\n",
    "\n",
    "def handle_dataframe(df):\n",
    "    df_cols = get_col_names(df)\n",
    "    print(\"Starting dataframe handling\")\n",
    "    for col in df_cols:\n",
    "        col_name = col[0]\n",
    "        if col_name == \"Orders_Normalized\":\n",
    "            df = df.withColumnRenamed(\"Orders_Normalized\", \"label\")\n",
    "        else:\n",
    "            print(f\"Handling {col_name}\")\n",
    "            if col[1] == 'string':\n",
    "                if col_name == \"Time\":\n",
    "                    df = embed_time(df)\n",
    "                else:\n",
    "                    mapping = get_string_mapping(col_name, df)\n",
    "                    df = get_embedding(col_name, mapping, df)\n",
    "            df = normalize_column(col_name, df)\n",
    "    return df"
   ]
  },
  {
   "cell_type": "code",
   "execution_count": 66,
   "metadata": {
    "ExecuteTime": {
     "end_time": "2023-05-07T18:40:06.035383Z",
     "start_time": "2023-05-07T18:40:06.028973Z"
    }
   },
   "outputs": [],
   "source": [
    "data = data.drop(\"Mapped_Last_Touch_Channel\")"
   ]
  },
  {
   "cell_type": "code",
   "execution_count": 76,
   "metadata": {
    "ExecuteTime": {
     "end_time": "2023-05-07T18:46:20.990008Z",
     "start_time": "2023-05-07T18:46:20.980858Z"
    }
   },
   "outputs": [],
   "source": [
    "data = data.withColumnRenamed(\"Orders_Normalized\", \"label\")"
   ]
  },
  {
   "cell_type": "code",
   "execution_count": 47,
   "metadata": {
    "ExecuteTime": {
     "end_time": "2023-05-07T18:33:04.581495Z",
     "start_time": "2023-05-07T18:32:42.557987Z"
    }
   },
   "outputs": [
    {
     "name": "stdout",
     "output_type": "stream",
     "text": [
      "Starting dataframe handling\n",
      "Handling Visit_Number_Bucket\n",
      "Getting mapping\n",
      "Getting embedding\n",
      "Normalizing\n",
      "Handling Page_Views_Normalized\n",
      "Normalizing\n",
      "Handling Internal_Search_Successful_Normalized\n",
      "Normalizing\n",
      "Handling Internal_Search_Null_Normalized\n",
      "Normalizing\n",
      "Handling Email_Signup_Normalized\n",
      "Normalizing\n",
      "Handling Total_Seconds_Spent_Normalized\n",
      "Normalizing\n",
      "Handling Store_Locator_Search_Normalized\n",
      "Normalizing\n",
      "Handling Mapped_Last_Touch_Channel\n",
      "Getting mapping\n",
      "Getting embedding\n",
      "Normalizing\n",
      "Handling Mapped_Mobile_Device_Type\n",
      "Getting mapping\n",
      "Getting embedding\n",
      "Normalizing\n",
      "Handling Mapped_Browser_Type\n",
      "Getting mapping\n",
      "Getting embedding\n",
      "Normalizing\n",
      "Handling Mapped_Entry_Pages\n",
      "Getting mapping\n",
      "Getting embedding\n",
      "Normalizing\n",
      "Handling Mapped_Site_Section\n",
      "Getting mapping\n",
      "Getting embedding\n",
      "Normalizing\n",
      "Handling Mapped_Promo_Code\n",
      "Getting mapping\n",
      "Getting embedding\n",
      "Normalizing\n",
      "Handling Maped_Product_Name\n",
      "Getting mapping\n",
      "Getting embedding\n",
      "Normalizing\n",
      "Handling Mapped_Search_Term\n",
      "Getting mapping\n",
      "Getting embedding\n",
      "Normalizing\n",
      "Handling Mapped_Product_Collection\n",
      "Getting mapping\n",
      "Getting embedding\n",
      "Normalizing\n"
     ]
    }
   ],
   "source": [
    "data = handle_dataframe(data)"
   ]
  },
  {
   "cell_type": "code",
   "execution_count": 77,
   "metadata": {
    "ExecuteTime": {
     "end_time": "2023-05-07T18:46:23.628010Z",
     "start_time": "2023-05-07T18:46:23.619963Z"
    }
   },
   "outputs": [],
   "source": [
    "train, validation, test = data.randomSplit([0.7, 0.2, 0.1], 1234)\n"
   ]
  },
  {
   "cell_type": "code",
   "execution_count": 78,
   "metadata": {
    "ExecuteTime": {
     "end_time": "2023-05-07T18:46:24.324724Z",
     "start_time": "2023-05-07T18:46:24.236276Z"
    }
   },
   "outputs": [],
   "source": [
    "categorical_columns = [item[0] for item in data.dtypes if item[1].startswith('string')]\n",
    "numeric_columns = [item[0] for item in data.dtypes if item[1].startswith('double')]\n",
    "indexers = [StringIndexer(inputCol=column, outputCol='{0}_index'.format(column)) for column in categorical_columns]"
   ]
  },
  {
   "cell_type": "code",
   "execution_count": 79,
   "metadata": {
    "ExecuteTime": {
     "end_time": "2023-05-07T18:46:25.115907Z",
     "start_time": "2023-05-07T18:46:25.103332Z"
    }
   },
   "outputs": [],
   "source": [
    "featuresCreator = VectorAssembler(inputCols=[indexer.getOutputCol() for indexer in indexers] +\n",
    "numeric_columns, outputCol=\"features\")"
   ]
  },
  {
   "cell_type": "code",
   "execution_count": 80,
   "metadata": {
    "ExecuteTime": {
     "end_time": "2023-05-07T18:46:25.499591Z",
     "start_time": "2023-05-07T18:46:25.489770Z"
    }
   },
   "outputs": [
    {
     "name": "stdout",
     "output_type": "stream",
     "text": [
      "['Visit_Number_Bucket', 'Mapped_Last_Touch_Channel', 'Mapped_Mobile_Device_Type', 'Mapped_Browser_Type', 'Mapped_Entry_Pages', 'Mapped_Site_Section', 'Mapped_Promo_Code', 'Maped_Product_Name', 'Mapped_Search_Term', 'Mapped_Product_Collection'] ['Page_Views_Normalized', 'Internal_Search_Successful_Normalized', 'Internal_Search_Null_Normalized', 'Email_Signup_Normalized', 'Total_Seconds_Spent_Normalized', 'Store_Locator_Search_Normalized']\n"
     ]
    }
   ],
   "source": [
    "layers = [len(featuresCreator.getInputCols()), 10, 10, 2]\n",
    "classifier = MultilayerPerceptronClassifier(labelCol='label', featuresCol='features', maxIter=100,\n",
    "layers=layers, blockSize=128, seed=1234)\n",
    "print(categorical_columns, numeric_columns)"
   ]
  },
  {
   "cell_type": "code",
   "execution_count": 81,
   "metadata": {
    "ExecuteTime": {
     "end_time": "2023-05-07T18:47:03.316727Z",
     "start_time": "2023-05-07T18:46:26.153344Z"
    }
   },
   "outputs": [],
   "source": [
    "pipeline = Pipeline(stages=indexers + [featuresCreator, classifier])\n",
    "model = pipeline.fit(train)"
   ]
  },
  {
   "cell_type": "code",
   "execution_count": 82,
   "metadata": {
    "ExecuteTime": {
     "end_time": "2023-05-07T18:47:04.526643Z",
     "start_time": "2023-05-07T18:47:03.321326Z"
    }
   },
   "outputs": [],
   "source": [
    "train_output_df = model.transform(train)\n",
    "validation_output_df = model.transform(validation)\n",
    "test_output_df = model.transform(test)\n"
   ]
  },
  {
   "cell_type": "code",
   "execution_count": 83,
   "metadata": {
    "ExecuteTime": {
     "end_time": "2023-05-07T18:47:19.025101Z",
     "start_time": "2023-05-07T18:47:04.529629Z"
    }
   },
   "outputs": [
    {
     "name": "stdout",
     "output_type": "stream",
     "text": [
      "Train weightedPrecision = 0.9791986079349371\n",
      "Validation weightedPrecision = 0.9796286746025589\n",
      "Test weightedPrecision = 0.9767283259275199\n",
      "Train weightedRecall = 0.9788602045786654\n",
      "Validation weightedRecall = 0.979310812644146\n",
      "Test weightedRecall = 0.9764150943396226\n",
      "Train accuracy = 0.9788602045786654\n",
      "Validation accuracy = 0.979310812644146\n",
      "Test accuracy = 0.9764150943396226\n"
     ]
    }
   ],
   "source": [
    "train_predictionAndLabels = train_output_df.select(\"prediction\", \"label\")\n",
    "validation_predictionAndLabels = validation_output_df.select(\"prediction\",\n",
    "\"label\")\n",
    "test_predictionAndLabels = test_output_df.select(\"prediction\", \"label\")\n",
    "metrics = ['weightedPrecision', 'weightedRecall', 'accuracy']\n",
    "for metric in metrics:\n",
    "    evaluator = MulticlassClassificationEvaluator(metricName=metric)\n",
    "    print('Train ' + metric + ' = ' +\n",
    "    str(evaluator.evaluate(train_predictionAndLabels)))\n",
    "    print('Validation ' + metric + ' = ' +\n",
    "    str(evaluator.evaluate(validation_predictionAndLabels)))\n",
    "    print('Test ' + metric + ' = ' +\n",
    "    str(evaluator.evaluate(test_predictionAndLabels)))"
   ]
  },
  {
   "cell_type": "code",
   "execution_count": 15,
   "metadata": {
    "ExecuteTime": {
     "end_time": "2023-05-07T16:56:16.432237Z",
     "start_time": "2023-05-07T16:56:10.466907Z"
    }
   },
   "outputs": [
    {
     "name": "stdout",
     "output_type": "stream",
     "text": [
      "   label  count\n",
      "0      0   3801\n",
      "1      1   3584\n"
     ]
    }
   ],
   "source": [
    "import matplotlib.pyplot as plt\n",
    "import numpy as np\n",
    "import itertools\n",
    "def plot_confusion_matrix(cm, classes, normalize=False, title='Confusion matrix', cmap=plt.cm.Blues):\n",
    "    \"\"\"\n",
    "    This function prints and plots the confusion matrix.\n",
    "    Normalization can be applied by setting `normalize=True`.\n",
    "    \"\"\"\n",
    "    if normalize:\n",
    "        cm = cm.astype('float') / cm.sum(axis=1)[:, np.newaxis]\n",
    "        print(\"Normalized confusion matrix\")\n",
    "    else:\n",
    "        print('Confusion matrix, without normalization')\n",
    "        print(cm)\n",
    "    plt.imshow(cm, interpolation='nearest', cmap=cmap)\n",
    "    plt.title(title)\n",
    "    plt.colorbar()\n",
    "    tick_marks = np.arange(len(classes))\n",
    "    plt.xticks(tick_marks, classes, rotation=45)\n",
    "    plt.yticks(tick_marks, classes)\n",
    "    fmt = '.2f' if normalize else 'd'\n",
    "    thresh = cm.max() / 2.\n",
    "    for i, j in itertools.product(range(cm.shape[0]), range(cm.shape[1])):\n",
    "        plt.text(j, i, format(cm[i, j], fmt),\n",
    "        horizontalalignment=\"center\",\n",
    "        color=\"white\" if cm[i, j] > thresh else \"black\")\n",
    "    plt.tight_layout()\n",
    "    plt.ylabel('True label')\n",
    "    plt.xlabel('Predicted label')\n",
    "#Get Class labels\n",
    "class_temp = test_predictionAndLabels.select(\"label\").groupBy(\"label\").count().sort('count', ascending=False).toPandas()\n",
    "print(class_temp)"
   ]
  },
  {
   "cell_type": "code",
   "execution_count": 16,
   "metadata": {
    "ExecuteTime": {
     "end_time": "2023-05-07T16:56:26.940101Z",
     "start_time": "2023-05-07T16:56:21.232972Z"
    }
   },
   "outputs": [
    {
     "name": "stdout",
     "output_type": "stream",
     "text": [
      "Confusion matrix, without normalization\n",
      "[[3635  166]\n",
      " [ 605 2979]]\n"
     ]
    },
    {
     "data": {
      "image/png": "[encoded data removed]",
      "text/plain": [
       "<Figure size 432x288 with 2 Axes>"
      ]
     },
     "metadata": {
      "needs_background": "light"
     },
     "output_type": "display_data"
    }
   ],
   "source": [
    "#Calculate confusion matrix\n",
    "from sklearn.metrics import confusion_matrix\n",
    "y_true = test_predictionAndLabels.select(\"label\")\n",
    "y_true = y_true.toPandas()\n",
    "y_pred = test_predictionAndLabels.select(\"prediction\")\n",
    "y_pred = y_pred.toPandas()\n",
    "cnf_matrix = confusion_matrix(y_true, y_pred,labels=class_temp[\"label\"])\n",
    "cnf_matrix\n",
    "#Plotting Results\n",
    "plt.figure()\n",
    "plot_confusion_matrix(cnf_matrix, classes=class_temp, title='Confusion matrix, without normalization')\n",
    "plt.show()"
   ]
  },
  {
   "cell_type": "code",
   "execution_count": null,
   "metadata": {},
   "outputs": [],
   "source": []
  }
 ],
 "metadata": {
  "kernelspec": {
   "display_name": "Python 3",
   "language": "python",
   "name": "python3"
  },
  "language_info": {
   "codemirror_mode": {
    "name": "ipython",
    "version": 3
   },
   "file_extension": ".py",
   "mimetype": "text/x-python",
   "name": "python",
   "nbconvert_exporter": "python",
   "pygments_lexer": "ipython3",
   "version": "3.6.7"
  },
  "toc": {
   "base_numbering": 1,
   "nav_menu": {},
   "number_sections": true,
   "sideBar": true,
   "skip_h1_title": false,
   "title_cell": "Table of Contents",
   "title_sidebar": "Contents",
   "toc_cell": false,
   "toc_position": {},
   "toc_section_display": true,
   "toc_window_display": false
  }
 },
 "nbformat": 4,
 "nbformat_minor": 5
}
