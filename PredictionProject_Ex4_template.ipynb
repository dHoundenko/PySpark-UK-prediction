{
 "cells": [
  {
   "cell_type": "code",
   "execution_count": 1,
   "metadata": {
    "ExecuteTime": {
     "end_time": "2023-05-07T23:11:18.823972Z",
     "start_time": "2023-05-07T23:11:16.999318Z"
    }
   },
   "outputs": [],
   "source": [
    "# Imports\n",
    "import os\n",
    "import numpy as np\n",
    "import pandas as pd\n",
    "from pyspark.sql.types import *\n",
    "from pyspark.ml import Pipeline\n",
    "from pyspark.sql import functions as f\n",
    "from pyspark.sql.functions import udf, StringType, col, when, max, min, rand, hour, minute, expr\n",
    "from pyspark.sql import SparkSession\n",
    "from pyspark.ml.evaluation import MulticlassClassificationEvaluator\n",
    "from pyspark.ml.classification import MultilayerPerceptronClassifier\n",
    "from pyspark.ml.feature import OneHotEncoder, VectorAssembler, StringIndexer\n",
    "from functools import reduce"
   ]
  },
  {
   "cell_type": "code",
   "execution_count": 2,
   "metadata": {
    "ExecuteTime": {
     "end_time": "2023-05-07T23:11:28.928519Z",
     "start_time": "2023-05-07T23:11:19.610293Z"
    }
   },
   "outputs": [],
   "source": [
    "# Building session now\n",
    "spark = SparkSession.builder.appName('E4_template').getOrCreate()\n"
   ]
  },
  {
   "cell_type": "code",
   "execution_count": 3,
   "metadata": {
    "ExecuteTime": {
     "end_time": "2023-05-07T23:13:18.537415Z",
     "start_time": "2023-05-07T23:11:28.934648Z"
    }
   },
   "outputs": [],
   "source": [
    "# Load data from csv\n",
    "df1 = spark.read.csv('/mnt/bdpa23-group14-pvc/accidents_2005_to_2007.csv', header=True, inferSchema=True)\n",
    "df2 = spark.read.csv('/mnt/bdpa23-group14-pvc/accidents_2009_to_2011.csv', header=True, inferSchema=True)\n",
    "df3 = spark.read.csv('/mnt/bdpa23-group14-pvc/accidents_2012_to_2014.csv', header=True, inferSchema=True)\n",
    "# Combine the DataFrames into a single DataFrame\n",
    "data = df1.union(df2).union(df3)"
   ]
  },
  {
   "cell_type": "code",
   "execution_count": 4,
   "metadata": {
    "ExecuteTime": {
     "end_time": "2023-05-07T23:13:22.332569Z",
     "start_time": "2023-05-07T23:13:18.542287Z"
    }
   },
   "outputs": [
    {
     "name": "stdout",
     "output_type": "stream",
     "text": [
      "1504150\n"
     ]
    }
   ],
   "source": [
    "# Set label values\n",
    "print(data.count())\n",
    "data = data.withColumn('Accident_Severity', when(data.Accident_Severity == 1, 0).otherwise(data.Accident_Severity))\n",
    "data = data.withColumn('Accident_Severity', when(data.Accident_Severity == 2, 1).otherwise(data.Accident_Severity))\n",
    "data = data.withColumn('Accident_Severity', when(data.Accident_Severity == 3, 2).otherwise(data.Accident_Severity))"
   ]
  },
  {
   "cell_type": "code",
   "execution_count": 5,
   "metadata": {
    "ExecuteTime": {
     "end_time": "2023-05-07T23:13:33.397016Z",
     "start_time": "2023-05-07T23:13:22.336343Z"
    },
    "scrolled": true
   },
   "outputs": [
    {
     "name": "stdout",
     "output_type": "stream",
     "text": [
      "1280205\n",
      "204504\n",
      "19441\n"
     ]
    }
   ],
   "source": [
    "df = data\n",
    "# get class counts\n",
    "df_majority = df.filter(col(\"Accident_Severity\") == 2)\n",
    "df_minority_1 = df.filter(col(\"Accident_Severity\") == 1)\n",
    "df_minority_2 = df.filter(col(\"Accident_Severity\") == 0)\n",
    "majority = df_majority.count()\n",
    "minority_1 = df_minority_1.count()\n",
    "minority_2 = df_minority_2.count()\n",
    "print(majority)\n",
    "print(minority_1)\n",
    "print(minority_2)"
   ]
  },
  {
   "cell_type": "code",
   "execution_count": 6,
   "metadata": {
    "ExecuteTime": {
     "end_time": "2023-05-07T23:17:21.362227Z",
     "start_time": "2023-05-07T23:17:21.353111Z"
    }
   },
   "outputs": [
    {
     "name": "stdout",
     "output_type": "stream",
     "text": [
      "0.015185849141348457 0.09506415522434769\n"
     ]
    }
   ],
   "source": [
    "# Downsample frequent classes\n",
    "ratio_majority = float(minority_2 / majority)\n",
    "ratio_minority_1 = float(minority_2 / minority_1)\n",
    "print(ratio_majority, ratio_minority_1)"
   ]
  },
  {
   "cell_type": "code",
   "execution_count": 7,
   "metadata": {
    "ExecuteTime": {
     "end_time": "2023-05-07T23:17:28.923465Z",
     "start_time": "2023-05-07T23:17:22.184794Z"
    }
   },
   "outputs": [
    {
     "name": "stdout",
     "output_type": "stream",
     "text": [
      "19410\n",
      "19625\n",
      "19441\n"
     ]
    }
   ],
   "source": [
    "# Resample to get balanced data between classes\n",
    "df_undersampled_minority_1 = df_minority_1.sample(False, ratio_minority_1, seed=42)\n",
    "df_undersampled_majority = df_majority.sample(False, ratio_majority, seed=42)\n",
    "print(df_undersampled_majority.count())\n",
    "print(df_undersampled_minority_1.count())\n",
    "print(df_minority_2.count())"
   ]
  },
  {
   "cell_type": "code",
   "execution_count": 8,
   "metadata": {
    "ExecuteTime": {
     "end_time": "2023-05-07T23:17:28.945704Z",
     "start_time": "2023-05-07T23:17:28.926372Z"
    }
   },
   "outputs": [],
   "source": [
    "# Combine into a new dataframe\n",
    "balanced_df = df_undersampled_minority_1.union(df_undersampled_majority).union(df_minority_2)"
   ]
  },
  {
   "cell_type": "code",
   "execution_count": 9,
   "metadata": {
    "ExecuteTime": {
     "end_time": "2023-05-07T23:17:29.051361Z",
     "start_time": "2023-05-07T23:17:29.018019Z"
    }
   },
   "outputs": [
    {
     "name": "stdout",
     "output_type": "stream",
     "text": [
      "root\n",
      " |-- Accident_Index: string (nullable = true)\n",
      " |-- Location_Easting_OSGR: integer (nullable = true)\n",
      " |-- Location_Northing_OSGR: integer (nullable = true)\n",
      " |-- Longitude: double (nullable = true)\n",
      " |-- Latitude: double (nullable = true)\n",
      " |-- Police_Force: integer (nullable = true)\n",
      " |-- Accident_Severity: integer (nullable = true)\n",
      " |-- Number_of_Vehicles: integer (nullable = true)\n",
      " |-- Number_of_Casualties: integer (nullable = true)\n",
      " |-- Date: string (nullable = true)\n",
      " |-- Day_of_Week: integer (nullable = true)\n",
      " |-- Time: string (nullable = true)\n",
      " |-- Local_Authority_(District): integer (nullable = true)\n",
      " |-- Local_Authority_(Highway): string (nullable = true)\n",
      " |-- 1st_Road_Class: integer (nullable = true)\n",
      " |-- 1st_Road_Number: integer (nullable = true)\n",
      " |-- Road_Type: string (nullable = true)\n",
      " |-- Speed_limit: integer (nullable = true)\n",
      " |-- Junction_Detail: string (nullable = true)\n",
      " |-- Junction_Control: string (nullable = true)\n",
      " |-- 2nd_Road_Class: integer (nullable = true)\n",
      " |-- 2nd_Road_Number: integer (nullable = true)\n",
      " |-- Pedestrian_Crossing-Human_Control: string (nullable = true)\n",
      " |-- Pedestrian_Crossing-Physical_Facilities: string (nullable = true)\n",
      " |-- Light_Conditions: string (nullable = true)\n",
      " |-- Weather_Conditions: string (nullable = true)\n",
      " |-- Road_Surface_Conditions: string (nullable = true)\n",
      " |-- Special_Conditions_at_Site: string (nullable = true)\n",
      " |-- Carriageway_Hazards: string (nullable = true)\n",
      " |-- Urban_or_Rural_Area: integer (nullable = true)\n",
      " |-- Did_Police_Officer_Attend_Scene_of_Accident: string (nullable = true)\n",
      " |-- LSOA_of_Accident_Location: string (nullable = true)\n",
      " |-- Year: integer (nullable = true)\n",
      "\n"
     ]
    }
   ],
   "source": [
    "balanced_df.printSchema()"
   ]
  },
  {
   "cell_type": "code",
   "execution_count": 10,
   "metadata": {
    "ExecuteTime": {
     "end_time": "2023-05-07T23:17:29.317690Z",
     "start_time": "2023-05-07T23:17:29.118491Z"
    }
   },
   "outputs": [],
   "source": [
    "# choose columns for analysis\n",
    "balanced_df = balanced_df.select(\"Accident_Severity\",\n",
    "                           \"Day_of_week\",\n",
    "                           \"Speed_limit\",\n",
    "                           \"Urban_or_Rural_Area\",\n",
    "                           \"1st_Road_Class\",\n",
    "                           \"2nd_Road_Class\",\n",
    "                           \"Light_Conditions\",\n",
    "                           \"Weather_Conditions\",\n",
    "                           \"Road_Surface_Conditions\", \n",
    "                           \"Police_Force\",\n",
    "                           \"Number_of_Vehicles\",\n",
    "                           \"Number_of_Casualties\",\n",
    "                           \"Local_Authority_(District)\",\n",
    "                           \"Local_Authority_(Highway)\",\n",
    "                           \"Road_Type\",\n",
    "                           \"Pedestrian_Crossing-Human_Control\",\n",
    "                           \"Pedestrian_Crossing-Physical_Facilities\",\n",
    "                           \"Special_Conditions_at_Site\",\n",
    "                           \"Carriageway_Hazards\",\n",
    "                           \"Did_Police_Officer_Attend_Scene_of_Accident\",\n",
    "                           \"Year\"\n",
    "                           )\n",
    "# rename error causing column names\n",
    "balanced_df = balanced_df.withColumnRenamed(\"Local_Authority_(District)\", \"Local_Authority_District\")\n",
    "balanced_df = balanced_df.withColumnRenamed(\"Local_Authority_(Highway)\", \"Local_Authority_Highway\")\n",
    "balanced_df = balanced_df.withColumnRenamed(\"Pedestrian_Crossing-Human_Control\", \"Pedestrian_Crossing_Human_Control\")\n",
    "balanced_df = balanced_df.withColumnRenamed(\"Pedestrian_Crossing-Physical_Facilities\", \"Pedestrian_Crossing_Physical_Facilities\")\n",
    "# drop rows with null values\n",
    "balanced_df = balanced_df.dropna(how='any', thresh=None, subset=None)"
   ]
  },
  {
   "cell_type": "code",
   "execution_count": 11,
   "metadata": {
    "ExecuteTime": {
     "end_time": "2023-05-07T23:17:29.943858Z",
     "start_time": "2023-05-07T23:17:29.322365Z"
    }
   },
   "outputs": [],
   "source": [
    "# rename label column\n",
    "balanced_df = balanced_df.withColumnRenamed(\"Accident_Severity\", \"label\")\n",
    "# cast ints to double\n",
    "for i, column in zip(balanced_df.dtypes, balanced_df.columns):\n",
    "    if i[1] == 'int' and i[0] != 'label':\n",
    "        balanced_df = balanced_df.withColumn(column, col(column).cast(\"double\"))"
   ]
  },
  {
   "cell_type": "code",
   "execution_count": 12,
   "metadata": {
    "ExecuteTime": {
     "end_time": "2023-05-07T23:17:30.132653Z",
     "start_time": "2023-05-07T23:17:30.016019Z"
    }
   },
   "outputs": [],
   "source": [
    "# Split dataset\n",
    "train, validation, test = balanced_df.randomSplit([0.7, 0.2, 0.1], 1234)"
   ]
  },
  {
   "cell_type": "code",
   "execution_count": 13,
   "metadata": {
    "ExecuteTime": {
     "end_time": "2023-05-07T23:17:30.320463Z",
     "start_time": "2023-05-07T23:17:30.134668Z"
    }
   },
   "outputs": [],
   "source": [
    "# get categorical and numeric columns, set indexers\n",
    "categorical_columns = [item[0] for item in balanced_df.dtypes if item[1].startswith('string')]\n",
    "numeric_columns = [item[0] for item in balanced_df.dtypes if item[1].startswith('double')]\n",
    "indexers = [StringIndexer(inputCol=column, outputCol='{0}_index'.format(column)) for column in categorical_columns]"
   ]
  },
  {
   "cell_type": "code",
   "execution_count": 14,
   "metadata": {
    "ExecuteTime": {
     "end_time": "2023-05-07T23:17:31.462533Z",
     "start_time": "2023-05-07T23:17:31.457118Z"
    }
   },
   "outputs": [
    {
     "name": "stdout",
     "output_type": "stream",
     "text": [
      "['Light_Conditions', 'Weather_Conditions', 'Road_Surface_Conditions', 'Local_Authority_Highway', 'Road_Type', 'Pedestrian_Crossing_Human_Control', 'Pedestrian_Crossing_Physical_Facilities', 'Special_Conditions_at_Site', 'Carriageway_Hazards', 'Did_Police_Officer_Attend_Scene_of_Accident'] ['Day_of_week', 'Speed_limit', 'Urban_or_Rural_Area', '1st_Road_Class', '2nd_Road_Class', 'Police_Force', 'Number_of_Vehicles', 'Number_of_Casualties', 'Local_Authority_District', 'Year']\n"
     ]
    }
   ],
   "source": [
    "print(categorical_columns, numeric_columns)"
   ]
  },
  {
   "cell_type": "code",
   "execution_count": 15,
   "metadata": {
    "ExecuteTime": {
     "end_time": "2023-05-07T23:17:32.146736Z",
     "start_time": "2023-05-07T23:17:32.133513Z"
    }
   },
   "outputs": [],
   "source": [
    "# Establish features as per Exercise 4\n",
    "featuresCreator = VectorAssembler(inputCols=[indexer.getOutputCol() for indexer in indexers] + numeric_columns, outputCol=\"features\")"
   ]
  },
  {
   "cell_type": "code",
   "execution_count": 16,
   "metadata": {
    "ExecuteTime": {
     "end_time": "2023-05-07T23:17:33.116976Z",
     "start_time": "2023-05-07T23:17:33.055372Z"
    }
   },
   "outputs": [],
   "source": [
    "# Define layer structure and calssifier to be used\n",
    "layers = [len(featuresCreator.getInputCols()), 10, 10, 3]\n",
    "classifier = MultilayerPerceptronClassifier(labelCol='label', featuresCol='features', maxIter=100, layers=layers, blockSize=128, stepSize=0.1, seed=1234)"
   ]
  },
  {
   "cell_type": "code",
   "execution_count": 17,
   "metadata": {
    "ExecuteTime": {
     "end_time": "2023-05-07T23:17:34.204373Z",
     "start_time": "2023-05-07T23:17:34.197659Z"
    }
   },
   "outputs": [],
   "source": [
    "# Define pipeline\n",
    "pipeline = Pipeline(stages=indexers + [featuresCreator, classifier])"
   ]
  },
  {
   "cell_type": "code",
   "execution_count": 18,
   "metadata": {
    "ExecuteTime": {
     "end_time": "2023-05-07T23:19:11.535705Z",
     "start_time": "2023-05-07T23:17:34.994733Z"
    }
   },
   "outputs": [],
   "source": [
    "# Train model\n",
    "model = pipeline.fit(train)"
   ]
  },
  {
   "cell_type": "code",
   "execution_count": 19,
   "metadata": {
    "ExecuteTime": {
     "end_time": "2023-05-07T23:19:13.069987Z",
     "start_time": "2023-05-07T23:19:11.538554Z"
    }
   },
   "outputs": [],
   "source": [
    "# get predictions\n",
    "train_output_df = model.transform(train)\n",
    "validation_output_df = model.transform(validation)\n",
    "test_output_df = model.transform(test)"
   ]
  },
  {
   "cell_type": "code",
   "execution_count": 20,
   "metadata": {
    "ExecuteTime": {
     "end_time": "2023-05-07T23:20:46.237661Z",
     "start_time": "2023-05-07T23:19:13.119728Z"
    }
   },
   "outputs": [
    {
     "name": "stdout",
     "output_type": "stream",
     "text": [
      "Train weightedPrecision = 0.10928268711549477\n",
      "Validation weightedPrecision = 0.11137620228405117\n",
      "Test weightedPrecision = 0.11091643552674937\n",
      "Train weightedRecall = 0.33057932045954536\n",
      "Validation weightedRecall = 0.3337307332027591\n",
      "Test weightedRecall = 0.33304119193689746\n",
      "Train accuracy = 0.33057932045954536\n",
      "Validation accuracy = 0.3337307332027591\n",
      "Test accuracy = 0.33304119193689746\n"
     ]
    }
   ],
   "source": [
    "# calculate metrics\n",
    "train_predictionAndLabels = train_output_df.select(\"prediction\", \"label\")\n",
    "validation_predictionAndLabels = validation_output_df.select(\"prediction\",\"label\")\n",
    "test_predictionAndLabels = test_output_df.select(\"prediction\", \"label\")\n",
    "metrics = ['weightedPrecision', 'weightedRecall', 'accuracy']\n",
    "for metric in metrics:\n",
    "    evaluator = MulticlassClassificationEvaluator(metricName=metric)\n",
    "    print('Train ' + metric + ' = ' +\n",
    "    str(evaluator.evaluate(train_predictionAndLabels)))\n",
    "    print('Validation ' + metric + ' = ' +\n",
    "    str(evaluator.evaluate(validation_predictionAndLabels)))\n",
    "    print('Test ' + metric + ' = ' +\n",
    "    str(evaluator.evaluate(test_predictionAndLabels)))"
   ]
  },
  {
   "cell_type": "code",
   "execution_count": 21,
   "metadata": {
    "ExecuteTime": {
     "end_time": "2023-05-07T23:20:47.933970Z",
     "start_time": "2023-05-07T23:20:46.242581Z"
    }
   },
   "outputs": [],
   "source": [
    "# Ex4 confusion matrix plotting function\n",
    "import matplotlib.pyplot as plt\n",
    "import numpy as np\n",
    "import itertools\n",
    "def plot_confusion_matrix(cm, classes, normalize=False, title='Confusion matrix', cmap=plt.cm.Blues):\n",
    "    \"\"\"\n",
    "    This function prints and plots the confusion matrix.\n",
    "    Normalization can be applied by setting `normalize=True`.\n",
    "    \"\"\"\n",
    "    if normalize:\n",
    "        cm = cm.astype('float') / cm.sum(axis=1)[:, np.newaxis]\n",
    "        print(\"Normalized confusion matrix\")\n",
    "    else:\n",
    "        print('Confusion matrix, without normalization')\n",
    "        print(cm)\n",
    "    plt.imshow(cm, interpolation='nearest', cmap=cmap)\n",
    "    plt.title(title)\n",
    "    plt.colorbar()\n",
    "    tick_marks = np.arange(len(classes))\n",
    "    plt.xticks(tick_marks, classes, rotation=45)\n",
    "    plt.yticks(tick_marks, classes)\n",
    "    fmt = '.2f' if normalize else 'd'\n",
    "    thresh = cm.max() / 2.\n",
    "    for i, j in itertools.product(range(cm.shape[0]), range(cm.shape[1])):\n",
    "        plt.text(j, i, format(cm[i, j], fmt),\n",
    "        horizontalalignment=\"center\",\n",
    "        color=\"white\" if cm[i, j] > thresh else \"black\")\n",
    "    plt.tight_layout()\n",
    "    plt.ylabel('True label')\n",
    "    plt.xlabel('Predicted label')"
   ]
  },
  {
   "cell_type": "code",
   "execution_count": 22,
   "metadata": {
    "ExecuteTime": {
     "end_time": "2023-05-07T23:23:47.819511Z",
     "start_time": "2023-05-07T23:23:38.660817Z"
    }
   },
   "outputs": [
    {
     "name": "stdout",
     "output_type": "stream",
     "text": [
      "   label  count\n",
      "0      2   1900\n",
      "1      1   1876\n",
      "2      0   1929\n"
     ]
    }
   ],
   "source": [
    "#Get Class labels\n",
    "class_temp = test_predictionAndLabels.select(\"label\").groupBy(\"label\").count().sort('label', ascending=False).toPandas()\n",
    "print(class_temp)"
   ]
  },
  {
   "cell_type": "code",
   "execution_count": 23,
   "metadata": {
    "ExecuteTime": {
     "end_time": "2023-05-07T23:24:01.131286Z",
     "start_time": "2023-05-07T23:23:47.823982Z"
    }
   },
   "outputs": [
    {
     "data": {
      "text/plain": [
       "array([[1900,    0,    0],\n",
       "       [1876,    0,    0],\n",
       "       [1929,    0,    0]])"
      ]
     },
     "execution_count": 23,
     "metadata": {},
     "output_type": "execute_result"
    }
   ],
   "source": [
    "#Calculate confusion matrix\n",
    "from sklearn.metrics import confusion_matrix\n",
    "y_true = test_predictionAndLabels.select(\"label\")\n",
    "y_true = y_true.toPandas()\n",
    "y_pred = test_predictionAndLabels.select(\"prediction\")\n",
    "y_pred = y_pred.toPandas()\n",
    "cnf_matrix = confusion_matrix(y_true, y_pred,labels=class_temp['label'])\n",
    "cnf_matrix\n"
   ]
  },
  {
   "cell_type": "code",
   "execution_count": 24,
   "metadata": {
    "ExecuteTime": {
     "end_time": "2023-05-07T23:24:02.038271Z",
     "start_time": "2023-05-07T23:24:01.133407Z"
    }
   },
   "outputs": [
    {
     "name": "stdout",
     "output_type": "stream",
     "text": [
      "Confusion matrix, without normalization\n",
      "[[1900    0    0]\n",
      " [1876    0    0]\n",
      " [1929    0    0]]\n"
     ]
    },
    {
     "data": {
      "image/png": "[encoded data removed]",
      "text/plain": [
       "<Figure size 432x288 with 2 Axes>"
      ]
     },
     "metadata": {
      "needs_background": "light"
     },
     "output_type": "display_data"
    }
   ],
   "source": [
    "#Plotting Results\n",
    "plt.figure()\n",
    "plot_confusion_matrix(cnf_matrix, classes=class_temp['label'].values, title='Confusion matrix, without normalization')\n",
    "plt.show()"
   ]
  },
  {
   "cell_type": "code",
   "execution_count": null,
   "metadata": {},
   "outputs": [],
   "source": []
  }
 ],
 "metadata": {
  "kernelspec": {
   "display_name": "Python 3",
   "language": "python",
   "name": "python3"
  },
  "language_info": {
   "codemirror_mode": {
    "name": "ipython",
    "version": 3
   },
   "file_extension": ".py",
   "mimetype": "text/x-python",
   "name": "python",
   "nbconvert_exporter": "python",
   "pygments_lexer": "ipython3",
   "version": "3.6.7"
  },
  "toc": {
   "base_numbering": 1,
   "nav_menu": {},
   "number_sections": true,
   "sideBar": true,
   "skip_h1_title": false,
   "title_cell": "Table of Contents",
   "title_sidebar": "Contents",
   "toc_cell": false,
   "toc_position": {},
   "toc_section_display": true,
   "toc_window_display": false
  }
 },
 "nbformat": 4,
 "nbformat_minor": 5
}
